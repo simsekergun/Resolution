{
  "nbformat": 4,
  "nbformat_minor": 0,
  "metadata": {
    "colab": {
      "provenance": []
    },
    "kernelspec": {
      "name": "python3",
      "display_name": "Python 3"
    },
    "language_info": {
      "name": "python"
    }
  },
  "cells": [
    {
      "cell_type": "code",
      "execution_count": 1,
      "metadata": {
        "id": "AbpqSyRW96Tk"
      },
      "outputs": [],
      "source": [
        "# !pip install torch\n",
        "# !pip install torchvision\n",
        "import numpy as np\n",
        "import pandas as pd\n",
        "import torch\n",
        "import torch.nn as nn\n",
        "import torch.nn.functional as F\n",
        "import torchvision \n",
        "from torchvision import transforms\n",
        "from google.colab import files\n",
        "from torch.utils.data import Dataset, DataLoader"
      ]
    },
    {
      "cell_type": "code",
      "source": [
        "df_m = pd.read_csv('https://raw.githubusercontent.com/simsekergun/Resolution/main/Es_measured.csv',header=None)\n",
        "df_r = pd.read_csv('https://raw.githubusercontent.com/simsekergun/Resolution/main/Es_real.csv',header=None)\n",
        "df_m.shape, df_r.shape"
      ],
      "metadata": {
        "id": "ZpwLmZlUM4Tg",
        "colab": {
          "base_uri": "https://localhost:8080/"
        },
        "outputId": "26c8f62d-f99a-4ee1-8548-652cd47d4895"
      },
      "execution_count": 2,
      "outputs": [
        {
          "output_type": "execute_result",
          "data": {
            "text/plain": [
              "((1301, 111), (1301, 101))"
            ]
          },
          "metadata": {},
          "execution_count": 2
        }
      ]
    },
    {
      "cell_type": "code",
      "source": [
        "df_m.dtypes"
      ],
      "metadata": {
        "colab": {
          "base_uri": "https://localhost:8080/"
        },
        "id": "qb52ZWuPL7bz",
        "outputId": "21869766-5977-4402-b491-267f52d326cf"
      },
      "execution_count": 3,
      "outputs": [
        {
          "output_type": "execute_result",
          "data": {
            "text/plain": [
              "0      float64\n",
              "1      float64\n",
              "2      float64\n",
              "3      float64\n",
              "4      float64\n",
              "        ...   \n",
              "106    float64\n",
              "107    float64\n",
              "108    float64\n",
              "109    float64\n",
              "110    float64\n",
              "Length: 111, dtype: object"
            ]
          },
          "metadata": {},
          "execution_count": 3
        }
      ]
    },
    {
      "cell_type": "code",
      "source": [
        "#cols = df_m.columns\n",
        "#for col in cols:\n",
        "#    df_m[col] = df_m[col].astype('float32')\n",
        "#cols = df_r.columns\n",
        "#for col in cols:\n",
        "#    df_r[col] = df_r[col].astype('float32')"
      ],
      "metadata": {
        "id": "29QCdIfwJKDs"
      },
      "execution_count": null,
      "outputs": []
    },
    {
      "cell_type": "code",
      "source": [
        "torch.save(torch.from_numpy(df_m.to_numpy()), 'df_m.pt')\n",
        "torch.save(torch.from_numpy(df_r.to_numpy()), 'df_r.pt')"
      ],
      "metadata": {
        "id": "mO6cMQee-5Nn"
      },
      "execution_count": 4,
      "outputs": []
    },
    {
      "cell_type": "code",
      "source": [
        "ls"
      ],
      "metadata": {
        "colab": {
          "base_uri": "https://localhost:8080/"
        },
        "id": "_MSsHpMm_PUV",
        "outputId": "dfd31149-b0fd-4f2d-e9f0-30e990a524b6"
      },
      "execution_count": 5,
      "outputs": [
        {
          "output_type": "stream",
          "name": "stdout",
          "text": [
            "df_m.pt  df_r.pt  \u001b[0m\u001b[01;34msample_data\u001b[0m/\n"
          ]
        }
      ]
    },
    {
      "cell_type": "code",
      "source": [
        "files.download('df_m.pt')"
      ],
      "metadata": {
        "colab": {
          "base_uri": "https://localhost:8080/",
          "height": 17
        },
        "id": "L087UNsL_s2v",
        "outputId": "26a17f06-805a-4a30-9bb6-d1a13546eed2"
      },
      "execution_count": 6,
      "outputs": [
        {
          "output_type": "display_data",
          "data": {
            "text/plain": [
              "<IPython.core.display.Javascript object>"
            ],
            "application/javascript": [
              "\n",
              "    async function download(id, filename, size) {\n",
              "      if (!google.colab.kernel.accessAllowed) {\n",
              "        return;\n",
              "      }\n",
              "      const div = document.createElement('div');\n",
              "      const label = document.createElement('label');\n",
              "      label.textContent = `Downloading \"${filename}\": `;\n",
              "      div.appendChild(label);\n",
              "      const progress = document.createElement('progress');\n",
              "      progress.max = size;\n",
              "      div.appendChild(progress);\n",
              "      document.body.appendChild(div);\n",
              "\n",
              "      const buffers = [];\n",
              "      let downloaded = 0;\n",
              "\n",
              "      const channel = await google.colab.kernel.comms.open(id);\n",
              "      // Send a message to notify the kernel that we're ready.\n",
              "      channel.send({})\n",
              "\n",
              "      for await (const message of channel.messages) {\n",
              "        // Send a message to notify the kernel that we're ready.\n",
              "        channel.send({})\n",
              "        if (message.buffers) {\n",
              "          for (const buffer of message.buffers) {\n",
              "            buffers.push(buffer);\n",
              "            downloaded += buffer.byteLength;\n",
              "            progress.value = downloaded;\n",
              "          }\n",
              "        }\n",
              "      }\n",
              "      const blob = new Blob(buffers, {type: 'application/binary'});\n",
              "      const a = document.createElement('a');\n",
              "      a.href = window.URL.createObjectURL(blob);\n",
              "      a.download = filename;\n",
              "      div.appendChild(a);\n",
              "      a.click();\n",
              "      div.remove();\n",
              "    }\n",
              "  "
            ]
          },
          "metadata": {}
        },
        {
          "output_type": "display_data",
          "data": {
            "text/plain": [
              "<IPython.core.display.Javascript object>"
            ],
            "application/javascript": [
              "download(\"download_35058820-3f79-4d4e-acc4-290e023dd645\", \"df_m.pt\", 1156002)"
            ]
          },
          "metadata": {}
        }
      ]
    },
    {
      "cell_type": "code",
      "source": [
        "files.download('df_r.pt')"
      ],
      "metadata": {
        "colab": {
          "base_uri": "https://localhost:8080/",
          "height": 17
        },
        "id": "fJkBwf8YRd1u",
        "outputId": "d5a98be6-8138-4c4e-f5fb-36177a449733"
      },
      "execution_count": 7,
      "outputs": [
        {
          "output_type": "display_data",
          "data": {
            "text/plain": [
              "<IPython.core.display.Javascript object>"
            ],
            "application/javascript": [
              "\n",
              "    async function download(id, filename, size) {\n",
              "      if (!google.colab.kernel.accessAllowed) {\n",
              "        return;\n",
              "      }\n",
              "      const div = document.createElement('div');\n",
              "      const label = document.createElement('label');\n",
              "      label.textContent = `Downloading \"${filename}\": `;\n",
              "      div.appendChild(label);\n",
              "      const progress = document.createElement('progress');\n",
              "      progress.max = size;\n",
              "      div.appendChild(progress);\n",
              "      document.body.appendChild(div);\n",
              "\n",
              "      const buffers = [];\n",
              "      let downloaded = 0;\n",
              "\n",
              "      const channel = await google.colab.kernel.comms.open(id);\n",
              "      // Send a message to notify the kernel that we're ready.\n",
              "      channel.send({})\n",
              "\n",
              "      for await (const message of channel.messages) {\n",
              "        // Send a message to notify the kernel that we're ready.\n",
              "        channel.send({})\n",
              "        if (message.buffers) {\n",
              "          for (const buffer of message.buffers) {\n",
              "            buffers.push(buffer);\n",
              "            downloaded += buffer.byteLength;\n",
              "            progress.value = downloaded;\n",
              "          }\n",
              "        }\n",
              "      }\n",
              "      const blob = new Blob(buffers, {type: 'application/binary'});\n",
              "      const a = document.createElement('a');\n",
              "      a.href = window.URL.createObjectURL(blob);\n",
              "      a.download = filename;\n",
              "      div.appendChild(a);\n",
              "      a.click();\n",
              "      div.remove();\n",
              "    }\n",
              "  "
            ]
          },
          "metadata": {}
        },
        {
          "output_type": "display_data",
          "data": {
            "text/plain": [
              "<IPython.core.display.Javascript object>"
            ],
            "application/javascript": [
              "download(\"download_42943ed3-3802-4ab2-bfe1-8c2b313f04c2\", \"df_r.pt\", 1051938)"
            ]
          },
          "metadata": {}
        }
      ]
    },
    {
      "cell_type": "code",
      "source": [
        "df_Dataset = torch.load('df_m.pt')\n",
        "df_Dataset.shape"
      ],
      "metadata": {
        "colab": {
          "base_uri": "https://localhost:8080/"
        },
        "id": "61iIXQUy_uum",
        "outputId": "32eaac9f-ff81-4f84-c05d-15bc2e7b030a"
      },
      "execution_count": 10,
      "outputs": [
        {
          "output_type": "execute_result",
          "data": {
            "text/plain": [
              "torch.Size([1301, 111])"
            ]
          },
          "metadata": {},
          "execution_count": 10
        }
      ]
    },
    {
      "cell_type": "code",
      "source": [
        "df_Dataset"
      ],
      "metadata": {
        "colab": {
          "base_uri": "https://localhost:8080/"
        },
        "id": "-9wJgMYyEEfi",
        "outputId": "6c370f8a-8d97-4960-c34b-54cc30a7e21f"
      },
      "execution_count": 11,
      "outputs": [
        {
          "output_type": "execute_result",
          "data": {
            "text/plain": [
              "tensor([[ 64.2770,  84.4730, 109.3900,  ...,  83.0980,  63.1240,  47.5610],\n",
              "        [ 67.2010,  87.8940, 113.2500,  ...,  77.5890,  59.0510,  44.6260],\n",
              "        [ 54.6660,  71.7010,  92.7590,  ...,  70.9550,  53.9740,  40.7240],\n",
              "        ...,\n",
              "        [ 64.7220,  83.3410, 105.1000,  ...,  41.4200,  31.2680,  23.5930],\n",
              "        [ 67.7550,  87.6240, 111.3100,  ...,  52.9750,  40.0430,  30.1730],\n",
              "        [ 68.5660,  89.4780, 114.9600,  ...,  72.2820,  54.7900,  41.2830]],\n",
              "       dtype=torch.float64)"
            ]
          },
          "metadata": {},
          "execution_count": 11
        }
      ]
    },
    {
      "cell_type": "code",
      "source": [],
      "metadata": {
        "id": "GasyyEhoEKVx"
      },
      "execution_count": null,
      "outputs": []
    }
  ]
}
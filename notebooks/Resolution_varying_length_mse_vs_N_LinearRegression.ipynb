{
  "cells": [
    {
      "cell_type": "markdown",
      "metadata": {
        "id": "view-in-github",
        "colab_type": "text"
      },
      "source": [
        "<a href=\"https://colab.research.google.com/github/simsekergun/Resolution/blob/main/notebooks/Resolution_varying_length_mse_vs_N_LinearRegression.ipynb\" target=\"_parent\"><img src=\"https://colab.research.google.com/assets/colab-badge.svg\" alt=\"Open In Colab\"/></a>"
      ]
    },
    {
      "cell_type": "code",
      "execution_count": 1,
      "metadata": {
        "id": "KVJosSnoZwhA"
      },
      "outputs": [],
      "source": [
        "import numpy as np\n",
        "import matplotlib.pyplot as plt\n",
        "import pandas as pd\n",
        "from sklearn import metrics \n",
        "from sklearn.model_selection import train_test_split\n",
        "from sklearn.metrics import mean_squared_error\n",
        "from sklearn.linear_model import LinearRegression  \n",
        "from sklearn.metrics import mean_squared_error"
      ]
    },
    {
      "cell_type": "code",
      "execution_count": 2,
      "metadata": {
        "colab": {
          "base_uri": "https://localhost:8080/"
        },
        "id": "5fCpixdEZytf",
        "outputId": "4f39471e-cd8a-4bdd-b5a1-884ba44f2d89"
      },
      "outputs": [
        {
          "output_type": "execute_result",
          "data": {
            "text/plain": [
              "((2330, 200), (2330, 400))"
            ]
          },
          "metadata": {},
          "execution_count": 2
        }
      ],
      "source": [
        "df_m = pd.read_csv('https://raw.githubusercontent.com/simsekergun/Resolution/main/datasets/Es_measured_varying_length.csv',header=None)\n",
        "df_r = pd.read_csv('https://raw.githubusercontent.com/simsekergun/Resolution/main/datasets/Es_real_varying_length.csv',header=None)\n",
        "df_m.shape, df_r.shape"
      ]
    },
    {
      "cell_type": "code",
      "execution_count": 3,
      "metadata": {
        "id": "2-P1miHCaRDK"
      },
      "outputs": [],
      "source": [
        "df_mmax = max(df_m.max())\n",
        "df_rmax = max(df_r.max())\n",
        "X = df_m/df_mmax\n",
        "y = df_r/df_rmax"
      ]
    },
    {
      "cell_type": "code",
      "execution_count": 4,
      "metadata": {
        "colab": {
          "base_uri": "https://localhost:8080/"
        },
        "id": "DGsR679rP3KF",
        "outputId": "8a7ec414-ce56-4905-cbd8-2a6403acc30d"
      },
      "outputs": [
        {
          "output_type": "execute_result",
          "data": {
            "text/plain": [
              "(488.53, 464.14)"
            ]
          },
          "metadata": {},
          "execution_count": 4
        }
      ],
      "source": [
        "df_mmax,df_rmax"
      ]
    },
    {
      "cell_type": "code",
      "execution_count": 5,
      "metadata": {
        "colab": {
          "base_uri": "https://localhost:8080/"
        },
        "id": "T9-Daf1fZ7yO",
        "outputId": "85b3e497-20c8-46d3-c540-99927932c0ef"
      },
      "outputs": [
        {
          "output_type": "execute_result",
          "data": {
            "text/plain": [
              "((1631, 200), (699, 200), (1631, 400))"
            ]
          },
          "metadata": {},
          "execution_count": 5
        }
      ],
      "source": [
        "X_train, X_test, y_train, y_test = train_test_split(X, y, test_size=0.3, random_state=3)\n",
        "X_train.shape, X_test.shape, y_train.shape"
      ]
    },
    {
      "cell_type": "code",
      "execution_count": 6,
      "metadata": {
        "id": "40Nt5qfb_8uW"
      },
      "outputs": [],
      "source": [
        "Ns = [50, 60, 70, 80, 90, 100, 110, 120, 130, 140, 150, 160, 170, 180, 190, 200, 210, 220, 230, 240, 250, 275, 300, 350, 400, 450, 500, 550, 600, 1000, 1300, 1600]"
      ]
    },
    {
      "cell_type": "code",
      "execution_count": 7,
      "metadata": {
        "id": "x6KuHSH5z44q"
      },
      "outputs": [],
      "source": [
        "mean_errors = np.zeros(len(Ns))\n",
        "for i in range(len(Ns)):\n",
        "  reg = LinearRegression()         # Instantiate\n",
        "  reg.fit(X_train[:Ns[i]], y_train[:Ns[i]])        # Fit the train data\n",
        "  y_pred = reg.predict(X_test)  \n",
        "  mean_errors[i] = mean_squared_error(y_pred, y_test)"
      ]
    },
    {
      "cell_type": "code",
      "execution_count": 8,
      "metadata": {
        "colab": {
          "base_uri": "https://localhost:8080/",
          "height": 430
        },
        "id": "xBrWzMGzP3KG",
        "outputId": "cad0aa8f-8dc8-4866-c7b2-b6c9660a5edf"
      },
      "outputs": [
        {
          "output_type": "display_data",
          "data": {
            "text/plain": [
              "<Figure size 640x480 with 1 Axes>"
            ],
            "image/png": "[encoded data removed]"
          },
          "metadata": {}
        }
      ],
      "source": [
        "plt.plot(Ns,mean_errors)\n",
        "plt.yscale(\"log\")\n",
        "plt.show()"
      ]
    },
    {
      "cell_type": "code",
      "execution_count": 9,
      "metadata": {
        "colab": {
          "base_uri": "https://localhost:8080/"
        },
        "id": "wbQygHat1KDF",
        "outputId": "b3ce03a0-8b14-445a-badc-ca1160bcf4b4"
      },
      "outputs": [
        {
          "output_type": "execute_result",
          "data": {
            "text/plain": [
              "array([4.92637887e-02, 4.28681681e-02, 2.79225362e-02, 2.74409061e-02,\n",
              "       3.62588604e-02, 3.57391231e-02, 5.03632769e-02, 8.48285222e-02,\n",
              "       1.34982209e-01, 5.33877593e-01, 1.87055107e+00, 2.87658706e+00,\n",
              "       5.17733031e+00, 5.81590850e+00, 1.76748843e+01, 8.00663192e+01,\n",
              "       4.28918442e+00, 1.25348512e+00, 8.47155948e-01, 7.06258078e-01,\n",
              "       5.92160034e-01, 2.99417677e-01, 1.35632583e-01, 7.05573721e-02,\n",
              "       6.53504569e-02, 5.78629816e-02, 6.07841181e-02, 3.73223965e-02,\n",
              "       3.32642974e-02, 3.67822834e-03, 2.66574006e-03, 2.27957676e-03])"
            ]
          },
          "metadata": {},
          "execution_count": 9
        }
      ],
      "source": [
        "mean_errors"
      ]
    },
    {
      "cell_type": "code",
      "execution_count": 10,
      "metadata": {
        "id": "HQWH9-VusqU8"
      },
      "outputs": [],
      "source": [
        "#from google.colab import files\n",
        "#df_errors = pd.DataFrame(max_errors)\n",
        "#df_errors.to_csv('LinRegr_df_errors.csv')"
      ]
    },
    {
      "cell_type": "code",
      "execution_count": 11,
      "metadata": {
        "id": "dowL5IcdP3KG"
      },
      "outputs": [],
      "source": [
        "pd.DataFrame(y_pred).to_csv('LR_predictions.csv')\n",
        "y_test.to_csv('LR_true_vals.csv')\n",
        "X_test.to_csv('LR_inputs.csv')"
      ]
    },
    {
      "cell_type": "code",
      "execution_count": 11,
      "metadata": {
        "id": "qAwnV17fP3KG"
      },
      "outputs": [],
      "source": []
    }
  ],
  "metadata": {
    "accelerator": "GPU",
    "colab": {
      "provenance": [],
      "include_colab_link": true
    },
    "gpuClass": "standard",
    "kernelspec": {
      "display_name": "Python 3 (ipykernel)",
      "language": "python",
      "name": "python3"
    },
    "language_info": {
      "codemirror_mode": {
        "name": "ipython",
        "version": 3
      },
      "file_extension": ".py",
      "mimetype": "text/x-python",
      "name": "python",
      "nbconvert_exporter": "python",
      "pygments_lexer": "ipython3",
      "version": "3.10.9"
    }
  },
  "nbformat": 4,
  "nbformat_minor": 0
}
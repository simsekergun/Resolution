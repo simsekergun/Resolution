{
  "cells": [
    {
      "cell_type": "markdown",
      "metadata": {
        "id": "view-in-github",
        "colab_type": "text"
      },
      "source": [
        "<a href=\"https://colab.research.google.com/github/simsekergun/Resolution/blob/main/notebooks/Resolution_Example_FCNN.ipynb\" target=\"_parent\"><img src=\"https://colab.research.google.com/assets/colab-badge.svg\" alt=\"Open In Colab\"/></a>"
      ]
    },
    {
      "cell_type": "code",
      "execution_count": 1,
      "metadata": {
        "id": "KVJosSnoZwhA"
      },
      "outputs": [],
      "source": [
        "import numpy as np\n",
        "import matplotlib.pyplot as plt\n",
        "import pandas as pd\n",
        "from sklearn import metrics \n",
        "from sklearn.model_selection import train_test_split\n",
        "from sklearn.metrics import mean_squared_error\n",
        "from google.colab import files"
      ]
    },
    {
      "cell_type": "code",
      "execution_count": 2,
      "metadata": {
        "id": "XPCXBSsKZ-Nl"
      },
      "outputs": [],
      "source": [
        "# Multilayer Perceptron\n",
        "from keras.models import Model\n",
        "from keras.layers import Input\n",
        "from keras.layers import Dense\n",
        "from keras.layers import Dropout\n",
        "from keras.layers import concatenate\n",
        "from tensorflow.keras import optimizers\n",
        "from tensorflow.keras import backend\n",
        "from keras.layers import LeakyReLU, PReLU\n",
        "from tensorflow.keras.metrics import categorical_accuracy"
      ]
    },
    {
      "cell_type": "code",
      "execution_count": 3,
      "metadata": {
        "colab": {
          "base_uri": "https://localhost:8080/"
        },
        "id": "5fCpixdEZytf",
        "outputId": "1628c3b8-3833-45bd-d65b-64603a64c39f"
      },
      "outputs": [
        {
          "output_type": "execute_result",
          "data": {
            "text/plain": [
              "((2330, 110), (2330, 100))"
            ]
          },
          "metadata": {},
          "execution_count": 3
        }
      ],
      "source": [
        "df_m = pd.read_csv('https://raw.githubusercontent.com/simsekergun/Resolution/main/datasets/Es_measured.csv',header=None)\n",
        "df_r = pd.read_csv('https://raw.githubusercontent.com/simsekergun/Resolution/main/datasets/Es_real.csv',header=None)\n",
        "df_m.shape, df_r.shape"
      ]
    },
    {
      "cell_type": "code",
      "source": [
        "dfm_max = max(df_m.max())\n",
        "dfr_max = max(df_r.max())\n",
        "dfm_max, dfr_max"
      ],
      "metadata": {
        "colab": {
          "base_uri": "https://localhost:8080/"
        },
        "id": "kXeMnD4ZKXsK",
        "outputId": "27d612d2-dd32-443c-909b-ae1c08bb2423"
      },
      "execution_count": 4,
      "outputs": [
        {
          "output_type": "execute_result",
          "data": {
            "text/plain": [
              "(528.27, 470.16)"
            ]
          },
          "metadata": {},
          "execution_count": 4
        }
      ]
    },
    {
      "cell_type": "code",
      "execution_count": 5,
      "metadata": {
        "id": "2-P1miHCaRDK"
      },
      "outputs": [],
      "source": [
        "X = df_m/dfm_max\n",
        "y = df_r/dfr_max"
      ]
    },
    {
      "cell_type": "code",
      "execution_count": 6,
      "metadata": {
        "colab": {
          "base_uri": "https://localhost:8080/"
        },
        "id": "T9-Daf1fZ7yO",
        "outputId": "c3c10227-0f9e-46de-f73d-eda754754c7b"
      },
      "outputs": [
        {
          "output_type": "execute_result",
          "data": {
            "text/plain": [
              "((1864, 110), (466, 110), (1864, 100))"
            ]
          },
          "metadata": {},
          "execution_count": 6
        }
      ],
      "source": [
        "X_train, X_test, y_train, y_test = train_test_split(X, y, test_size=0.2, random_state=3)\n",
        "X_train.shape, X_test.shape, y_train.shape"
      ]
    },
    {
      "cell_type": "code",
      "execution_count": 7,
      "metadata": {
        "id": "SwcY4avSa5jz"
      },
      "outputs": [],
      "source": [
        "# ANN parameters\n",
        "ac = 'relu'  # activation function\n",
        "nnno = 1024    # number of neurons\n",
        "dr_rate = 0.2  # dropout rate\n",
        "EPOCHS = 200    # number of epocs\n",
        "LR = 0.001     # learning rate\n",
        "ninput = 110\n",
        "noutput = 100"
      ]
    },
    {
      "cell_type": "code",
      "execution_count": 8,
      "metadata": {
        "id": "htvzS0feaVKb"
      },
      "outputs": [],
      "source": [
        "visible = Input(shape=(ninput,))\n",
        "hidden1 = Dense(nnno, activation=ac)(visible)\n",
        "hidden1 = Dropout(dr_rate)(hidden1)\n",
        "hidden2 = Dense(nnno, activation=ac)(hidden1)\n",
        "hidden2 = Dropout(dr_rate)(hidden2)\n",
        "hidden3 = Dense(nnno, activation=ac)(hidden2)\n",
        "hidden3 = Dropout(dr_rate)(hidden3)\n",
        "hidden4 = Dense(nnno, activation=ac)(hidden3)\n",
        "hidden4 = Dropout(dr_rate)(hidden4)\n",
        "predicted_value = Dense(noutput)(hidden3)\n",
        "modelANN = Model(inputs=visible, outputs=predicted_value)"
      ]
    },
    {
      "cell_type": "code",
      "execution_count": 9,
      "metadata": {
        "colab": {
          "base_uri": "https://localhost:8080/"
        },
        "id": "_Y-9A1CbbIdh",
        "outputId": "e1e9b78a-97ee-44dd-e4e8-54736616786c"
      },
      "outputs": [
        {
          "output_type": "stream",
          "name": "stdout",
          "text": [
            "Epoch 1/200\n",
            "59/59 [==============================] - 13s 10ms/step - loss: 0.0158 - val_loss: 0.0124\n",
            "Epoch 2/200\n",
            "59/59 [==============================] - 0s 4ms/step - loss: 0.0133 - val_loss: 0.0112\n",
            "Epoch 3/200\n",
            "59/59 [==============================] - 0s 5ms/step - loss: 0.0112 - val_loss: 0.0078\n",
            "Epoch 4/200\n",
            "59/59 [==============================] - 0s 4ms/step - loss: 0.0088 - val_loss: 0.0071\n",
            "Epoch 5/200\n",
            "59/59 [==============================] - 0s 5ms/step - loss: 0.0079 - val_loss: 0.0065\n",
            "Epoch 6/200\n",
            "59/59 [==============================] - 0s 5ms/step - loss: 0.0070 - val_loss: 0.0051\n",
            "Epoch 7/200\n",
            "59/59 [==============================] - 0s 5ms/step - loss: 0.0061 - val_loss: 0.0048\n",
            "Epoch 8/200\n",
            "59/59 [==============================] - 0s 5ms/step - loss: 0.0059 - val_loss: 0.0054\n",
            "Epoch 9/200\n",
            "59/59 [==============================] - 0s 4ms/step - loss: 0.0061 - val_loss: 0.0043\n",
            "Epoch 10/200\n",
            "59/59 [==============================] - 0s 4ms/step - loss: 0.0054 - val_loss: 0.0044\n",
            "Epoch 11/200\n",
            "59/59 [==============================] - 0s 5ms/step - loss: 0.0053 - val_loss: 0.0040\n",
            "Epoch 12/200\n",
            "59/59 [==============================] - 0s 5ms/step - loss: 0.0053 - val_loss: 0.0041\n",
            "Epoch 13/200\n",
            "59/59 [==============================] - 0s 5ms/step - loss: 0.0051 - val_loss: 0.0041\n",
            "Epoch 14/200\n",
            "59/59 [==============================] - 0s 5ms/step - loss: 0.0050 - val_loss: 0.0041\n",
            "Epoch 15/200\n",
            "59/59 [==============================] - 0s 5ms/step - loss: 0.0050 - val_loss: 0.0043\n",
            "Epoch 16/200\n",
            "59/59 [==============================] - 0s 4ms/step - loss: 0.0049 - val_loss: 0.0040\n",
            "Epoch 17/200\n",
            "59/59 [==============================] - 0s 5ms/step - loss: 0.0051 - val_loss: 0.0039\n",
            "Epoch 18/200\n",
            "59/59 [==============================] - 0s 5ms/step - loss: 0.0048 - val_loss: 0.0038\n",
            "Epoch 19/200\n",
            "59/59 [==============================] - 0s 5ms/step - loss: 0.0050 - val_loss: 0.0056\n",
            "Epoch 20/200\n",
            "59/59 [==============================] - 0s 5ms/step - loss: 0.0049 - val_loss: 0.0039\n",
            "Epoch 21/200\n",
            "59/59 [==============================] - 0s 5ms/step - loss: 0.0049 - val_loss: 0.0048\n",
            "Epoch 22/200\n",
            "59/59 [==============================] - 0s 5ms/step - loss: 0.0051 - val_loss: 0.0040\n",
            "Epoch 23/200\n",
            "59/59 [==============================] - 0s 5ms/step - loss: 0.0046 - val_loss: 0.0038\n",
            "Epoch 24/200\n",
            "59/59 [==============================] - 0s 5ms/step - loss: 0.0047 - val_loss: 0.0048\n",
            "Epoch 25/200\n",
            "59/59 [==============================] - 0s 5ms/step - loss: 0.0048 - val_loss: 0.0037\n",
            "Epoch 26/200\n",
            "59/59 [==============================] - 0s 5ms/step - loss: 0.0046 - val_loss: 0.0037\n",
            "Epoch 27/200\n",
            "59/59 [==============================] - 0s 4ms/step - loss: 0.0048 - val_loss: 0.0037\n",
            "Epoch 28/200\n",
            "59/59 [==============================] - 0s 5ms/step - loss: 0.0045 - val_loss: 0.0039\n",
            "Epoch 29/200\n",
            "59/59 [==============================] - 0s 5ms/step - loss: 0.0046 - val_loss: 0.0038\n",
            "Epoch 30/200\n",
            "59/59 [==============================] - 0s 5ms/step - loss: 0.0045 - val_loss: 0.0039\n",
            "Epoch 31/200\n",
            "59/59 [==============================] - 0s 5ms/step - loss: 0.0046 - val_loss: 0.0037\n",
            "Epoch 32/200\n",
            "59/59 [==============================] - 0s 5ms/step - loss: 0.0047 - val_loss: 0.0040\n",
            "Epoch 33/200\n",
            "59/59 [==============================] - 0s 5ms/step - loss: 0.0049 - val_loss: 0.0038\n",
            "Epoch 34/200\n",
            "59/59 [==============================] - 0s 7ms/step - loss: 0.0046 - val_loss: 0.0036\n",
            "Epoch 35/200\n",
            "59/59 [==============================] - 0s 7ms/step - loss: 0.0044 - val_loss: 0.0038\n",
            "Epoch 36/200\n",
            "59/59 [==============================] - 0s 7ms/step - loss: 0.0045 - val_loss: 0.0037\n",
            "Epoch 37/200\n",
            "59/59 [==============================] - 0s 7ms/step - loss: 0.0044 - val_loss: 0.0037\n",
            "Epoch 38/200\n",
            "59/59 [==============================] - 0s 7ms/step - loss: 0.0045 - val_loss: 0.0039\n",
            "Epoch 39/200\n",
            "59/59 [==============================] - 0s 7ms/step - loss: 0.0046 - val_loss: 0.0038\n",
            "Epoch 40/200\n",
            "59/59 [==============================] - 0s 5ms/step - loss: 0.0044 - val_loss: 0.0038\n",
            "Epoch 41/200\n",
            "59/59 [==============================] - 0s 5ms/step - loss: 0.0045 - val_loss: 0.0036\n",
            "Epoch 42/200\n",
            "59/59 [==============================] - 0s 4ms/step - loss: 0.0043 - val_loss: 0.0043\n",
            "Epoch 43/200\n",
            "59/59 [==============================] - 0s 5ms/step - loss: 0.0045 - val_loss: 0.0038\n",
            "Epoch 44/200\n",
            "59/59 [==============================] - 0s 5ms/step - loss: 0.0044 - val_loss: 0.0038\n",
            "Epoch 45/200\n",
            "59/59 [==============================] - 0s 5ms/step - loss: 0.0044 - val_loss: 0.0038\n",
            "Epoch 46/200\n",
            "59/59 [==============================] - 0s 5ms/step - loss: 0.0045 - val_loss: 0.0038\n",
            "Epoch 47/200\n",
            "59/59 [==============================] - 0s 5ms/step - loss: 0.0044 - val_loss: 0.0038\n",
            "Epoch 48/200\n",
            "59/59 [==============================] - 0s 5ms/step - loss: 0.0044 - val_loss: 0.0040\n",
            "Epoch 49/200\n",
            "59/59 [==============================] - 0s 4ms/step - loss: 0.0043 - val_loss: 0.0037\n",
            "Epoch 50/200\n",
            "59/59 [==============================] - 0s 5ms/step - loss: 0.0043 - val_loss: 0.0040\n",
            "Epoch 51/200\n",
            "59/59 [==============================] - 0s 5ms/step - loss: 0.0044 - val_loss: 0.0042\n",
            "Epoch 52/200\n",
            "59/59 [==============================] - 0s 5ms/step - loss: 0.0044 - val_loss: 0.0037\n",
            "Epoch 53/200\n",
            "59/59 [==============================] - 0s 5ms/step - loss: 0.0043 - val_loss: 0.0036\n",
            "Epoch 54/200\n",
            "59/59 [==============================] - 0s 5ms/step - loss: 0.0044 - val_loss: 0.0038\n",
            "Epoch 55/200\n",
            "59/59 [==============================] - 0s 5ms/step - loss: 0.0044 - val_loss: 0.0036\n",
            "Epoch 56/200\n",
            "59/59 [==============================] - 0s 5ms/step - loss: 0.0043 - val_loss: 0.0038\n",
            "Epoch 57/200\n",
            "59/59 [==============================] - 0s 5ms/step - loss: 0.0043 - val_loss: 0.0039\n",
            "Epoch 58/200\n",
            "59/59 [==============================] - 0s 5ms/step - loss: 0.0045 - val_loss: 0.0036\n",
            "Epoch 59/200\n",
            "59/59 [==============================] - 0s 4ms/step - loss: 0.0043 - val_loss: 0.0036\n",
            "Epoch 60/200\n",
            "59/59 [==============================] - 0s 4ms/step - loss: 0.0043 - val_loss: 0.0036\n",
            "Epoch 61/200\n",
            "59/59 [==============================] - 0s 5ms/step - loss: 0.0042 - val_loss: 0.0036\n",
            "Epoch 62/200\n",
            "59/59 [==============================] - 0s 5ms/step - loss: 0.0043 - val_loss: 0.0037\n",
            "Epoch 63/200\n",
            "59/59 [==============================] - 0s 4ms/step - loss: 0.0044 - val_loss: 0.0037\n",
            "Epoch 64/200\n",
            "59/59 [==============================] - 0s 5ms/step - loss: 0.0044 - val_loss: 0.0037\n",
            "Epoch 65/200\n",
            "59/59 [==============================] - 0s 5ms/step - loss: 0.0043 - val_loss: 0.0038\n",
            "Epoch 66/200\n",
            "59/59 [==============================] - 0s 5ms/step - loss: 0.0042 - val_loss: 0.0036\n",
            "Epoch 67/200\n",
            "59/59 [==============================] - 0s 5ms/step - loss: 0.0042 - val_loss: 0.0039\n",
            "Epoch 68/200\n",
            "59/59 [==============================] - 0s 5ms/step - loss: 0.0042 - val_loss: 0.0036\n",
            "Epoch 69/200\n",
            "59/59 [==============================] - 0s 5ms/step - loss: 0.0045 - val_loss: 0.0037\n",
            "Epoch 70/200\n",
            "59/59 [==============================] - 0s 4ms/step - loss: 0.0044 - val_loss: 0.0038\n",
            "Epoch 71/200\n",
            "59/59 [==============================] - 0s 4ms/step - loss: 0.0043 - val_loss: 0.0037\n",
            "Epoch 72/200\n",
            "59/59 [==============================] - 0s 5ms/step - loss: 0.0043 - val_loss: 0.0038\n",
            "Epoch 73/200\n",
            "59/59 [==============================] - 0s 4ms/step - loss: 0.0042 - val_loss: 0.0038\n",
            "Epoch 74/200\n",
            "59/59 [==============================] - 0s 4ms/step - loss: 0.0043 - val_loss: 0.0036\n",
            "Epoch 75/200\n",
            "59/59 [==============================] - 0s 7ms/step - loss: 0.0043 - val_loss: 0.0037\n",
            "Epoch 76/200\n",
            "59/59 [==============================] - 0s 7ms/step - loss: 0.0042 - val_loss: 0.0037\n",
            "Epoch 77/200\n",
            "59/59 [==============================] - 0s 7ms/step - loss: 0.0043 - val_loss: 0.0037\n",
            "Epoch 78/200\n",
            "59/59 [==============================] - 0s 7ms/step - loss: 0.0042 - val_loss: 0.0035\n",
            "Epoch 79/200\n",
            "59/59 [==============================] - 0s 6ms/step - loss: 0.0043 - val_loss: 0.0036\n",
            "Epoch 80/200\n",
            "59/59 [==============================] - 0s 7ms/step - loss: 0.0042 - val_loss: 0.0039\n",
            "Epoch 81/200\n",
            "59/59 [==============================] - 0s 6ms/step - loss: 0.0042 - val_loss: 0.0037\n",
            "Epoch 82/200\n",
            "59/59 [==============================] - 0s 5ms/step - loss: 0.0042 - val_loss: 0.0037\n",
            "Epoch 83/200\n",
            "59/59 [==============================] - 0s 5ms/step - loss: 0.0041 - val_loss: 0.0035\n",
            "Epoch 84/200\n",
            "59/59 [==============================] - 0s 5ms/step - loss: 0.0042 - val_loss: 0.0038\n",
            "Epoch 85/200\n",
            "59/59 [==============================] - 0s 4ms/step - loss: 0.0042 - val_loss: 0.0041\n",
            "Epoch 86/200\n",
            "59/59 [==============================] - 0s 5ms/step - loss: 0.0041 - val_loss: 0.0035\n",
            "Epoch 87/200\n",
            "59/59 [==============================] - 0s 5ms/step - loss: 0.0042 - val_loss: 0.0038\n",
            "Epoch 88/200\n",
            "59/59 [==============================] - 0s 5ms/step - loss: 0.0041 - val_loss: 0.0036\n",
            "Epoch 89/200\n",
            "59/59 [==============================] - 0s 5ms/step - loss: 0.0042 - val_loss: 0.0037\n",
            "Epoch 90/200\n",
            "59/59 [==============================] - 0s 5ms/step - loss: 0.0042 - val_loss: 0.0040\n",
            "Epoch 91/200\n",
            "59/59 [==============================] - 0s 4ms/step - loss: 0.0043 - val_loss: 0.0038\n",
            "Epoch 92/200\n",
            "59/59 [==============================] - 0s 5ms/step - loss: 0.0042 - val_loss: 0.0045\n",
            "Epoch 93/200\n",
            "59/59 [==============================] - 0s 4ms/step - loss: 0.0044 - val_loss: 0.0040\n",
            "Epoch 94/200\n",
            "59/59 [==============================] - 0s 5ms/step - loss: 0.0042 - val_loss: 0.0036\n",
            "Epoch 95/200\n",
            "59/59 [==============================] - 0s 5ms/step - loss: 0.0042 - val_loss: 0.0036\n",
            "Epoch 96/200\n",
            "59/59 [==============================] - 0s 4ms/step - loss: 0.0042 - val_loss: 0.0036\n",
            "Epoch 97/200\n",
            "59/59 [==============================] - 0s 5ms/step - loss: 0.0042 - val_loss: 0.0036\n",
            "Epoch 98/200\n",
            "59/59 [==============================] - 0s 5ms/step - loss: 0.0042 - val_loss: 0.0036\n",
            "Epoch 99/200\n",
            "59/59 [==============================] - 0s 4ms/step - loss: 0.0043 - val_loss: 0.0036\n",
            "Epoch 100/200\n",
            "59/59 [==============================] - 0s 5ms/step - loss: 0.0042 - val_loss: 0.0039\n",
            "Epoch 101/200\n",
            "59/59 [==============================] - 0s 5ms/step - loss: 0.0042 - val_loss: 0.0038\n",
            "Epoch 102/200\n",
            "59/59 [==============================] - 0s 5ms/step - loss: 0.0042 - val_loss: 0.0040\n",
            "Epoch 103/200\n",
            "59/59 [==============================] - 0s 5ms/step - loss: 0.0044 - val_loss: 0.0039\n",
            "Epoch 104/200\n",
            "59/59 [==============================] - 0s 5ms/step - loss: 0.0042 - val_loss: 0.0041\n",
            "Epoch 105/200\n",
            "59/59 [==============================] - 0s 4ms/step - loss: 0.0041 - val_loss: 0.0040\n",
            "Epoch 106/200\n",
            "59/59 [==============================] - 0s 5ms/step - loss: 0.0042 - val_loss: 0.0038\n",
            "Epoch 107/200\n",
            "59/59 [==============================] - 0s 5ms/step - loss: 0.0041 - val_loss: 0.0036\n",
            "Epoch 108/200\n",
            "59/59 [==============================] - 0s 5ms/step - loss: 0.0041 - val_loss: 0.0036\n",
            "Epoch 109/200\n",
            "59/59 [==============================] - 0s 5ms/step - loss: 0.0042 - val_loss: 0.0037\n",
            "Epoch 110/200\n",
            "59/59 [==============================] - 0s 5ms/step - loss: 0.0041 - val_loss: 0.0036\n",
            "Epoch 111/200\n",
            "59/59 [==============================] - 0s 5ms/step - loss: 0.0041 - val_loss: 0.0042\n",
            "Epoch 112/200\n",
            "59/59 [==============================] - 0s 5ms/step - loss: 0.0042 - val_loss: 0.0037\n",
            "Epoch 113/200\n",
            "59/59 [==============================] - 0s 5ms/step - loss: 0.0041 - val_loss: 0.0037\n",
            "Epoch 114/200\n",
            "59/59 [==============================] - 0s 5ms/step - loss: 0.0041 - val_loss: 0.0039\n",
            "Epoch 115/200\n",
            "59/59 [==============================] - 0s 6ms/step - loss: 0.0042 - val_loss: 0.0036\n",
            "Epoch 116/200\n",
            "59/59 [==============================] - 0s 8ms/step - loss: 0.0043 - val_loss: 0.0036\n",
            "Epoch 117/200\n",
            "59/59 [==============================] - 0s 7ms/step - loss: 0.0041 - val_loss: 0.0036\n",
            "Epoch 118/200\n",
            "59/59 [==============================] - 0s 6ms/step - loss: 0.0041 - val_loss: 0.0035\n",
            "Epoch 119/200\n",
            "59/59 [==============================] - 0s 7ms/step - loss: 0.0041 - val_loss: 0.0040\n",
            "Epoch 120/200\n",
            "59/59 [==============================] - 0s 7ms/step - loss: 0.0043 - val_loss: 0.0037\n",
            "Epoch 121/200\n",
            "59/59 [==============================] - 0s 8ms/step - loss: 0.0040 - val_loss: 0.0035\n",
            "Epoch 122/200\n",
            "59/59 [==============================] - 0s 5ms/step - loss: 0.0042 - val_loss: 0.0036\n",
            "Epoch 123/200\n",
            "59/59 [==============================] - 0s 5ms/step - loss: 0.0041 - val_loss: 0.0038\n",
            "Epoch 124/200\n",
            "59/59 [==============================] - 0s 5ms/step - loss: 0.0042 - val_loss: 0.0037\n",
            "Epoch 125/200\n",
            "59/59 [==============================] - 0s 5ms/step - loss: 0.0041 - val_loss: 0.0038\n",
            "Epoch 126/200\n",
            "59/59 [==============================] - 0s 5ms/step - loss: 0.0042 - val_loss: 0.0036\n",
            "Epoch 127/200\n",
            "59/59 [==============================] - 0s 5ms/step - loss: 0.0042 - val_loss: 0.0037\n",
            "Epoch 128/200\n",
            "59/59 [==============================] - 0s 5ms/step - loss: 0.0041 - val_loss: 0.0035\n",
            "Epoch 129/200\n",
            "59/59 [==============================] - 0s 5ms/step - loss: 0.0041 - val_loss: 0.0037\n",
            "Epoch 130/200\n",
            "59/59 [==============================] - 0s 5ms/step - loss: 0.0041 - val_loss: 0.0042\n",
            "Epoch 131/200\n",
            "59/59 [==============================] - 0s 5ms/step - loss: 0.0043 - val_loss: 0.0040\n",
            "Epoch 132/200\n",
            "59/59 [==============================] - 0s 5ms/step - loss: 0.0041 - val_loss: 0.0036\n",
            "Epoch 133/200\n",
            "59/59 [==============================] - 0s 5ms/step - loss: 0.0041 - val_loss: 0.0036\n",
            "Epoch 134/200\n",
            "59/59 [==============================] - 0s 4ms/step - loss: 0.0042 - val_loss: 0.0038\n",
            "Epoch 135/200\n",
            "59/59 [==============================] - 0s 4ms/step - loss: 0.0042 - val_loss: 0.0039\n",
            "Epoch 136/200\n",
            "59/59 [==============================] - 0s 5ms/step - loss: 0.0042 - val_loss: 0.0037\n",
            "Epoch 137/200\n",
            "59/59 [==============================] - 0s 5ms/step - loss: 0.0041 - val_loss: 0.0036\n",
            "Epoch 138/200\n",
            "59/59 [==============================] - 0s 5ms/step - loss: 0.0041 - val_loss: 0.0038\n",
            "Epoch 139/200\n",
            "59/59 [==============================] - 0s 5ms/step - loss: 0.0041 - val_loss: 0.0036\n",
            "Epoch 140/200\n",
            "59/59 [==============================] - 0s 4ms/step - loss: 0.0041 - val_loss: 0.0037\n",
            "Epoch 141/200\n",
            "59/59 [==============================] - 0s 5ms/step - loss: 0.0044 - val_loss: 0.0036\n",
            "Epoch 142/200\n",
            "59/59 [==============================] - 0s 5ms/step - loss: 0.0041 - val_loss: 0.0039\n",
            "Epoch 143/200\n",
            "59/59 [==============================] - 0s 5ms/step - loss: 0.0041 - val_loss: 0.0036\n",
            "Epoch 144/200\n",
            "59/59 [==============================] - 0s 5ms/step - loss: 0.0041 - val_loss: 0.0037\n",
            "Epoch 145/200\n",
            "59/59 [==============================] - 0s 5ms/step - loss: 0.0042 - val_loss: 0.0038\n",
            "Epoch 146/200\n",
            "59/59 [==============================] - 0s 5ms/step - loss: 0.0042 - val_loss: 0.0038\n",
            "Epoch 147/200\n",
            "59/59 [==============================] - 0s 5ms/step - loss: 0.0041 - val_loss: 0.0037\n",
            "Epoch 148/200\n",
            "59/59 [==============================] - 0s 5ms/step - loss: 0.0040 - val_loss: 0.0037\n",
            "Epoch 149/200\n",
            "59/59 [==============================] - 0s 5ms/step - loss: 0.0041 - val_loss: 0.0036\n",
            "Epoch 150/200\n",
            "59/59 [==============================] - 0s 5ms/step - loss: 0.0040 - val_loss: 0.0038\n",
            "Epoch 151/200\n",
            "59/59 [==============================] - 0s 5ms/step - loss: 0.0041 - val_loss: 0.0038\n",
            "Epoch 152/200\n",
            "59/59 [==============================] - 0s 4ms/step - loss: 0.0041 - val_loss: 0.0037\n",
            "Epoch 153/200\n",
            "59/59 [==============================] - 0s 5ms/step - loss: 0.0041 - val_loss: 0.0037\n",
            "Epoch 154/200\n",
            "59/59 [==============================] - 0s 5ms/step - loss: 0.0041 - val_loss: 0.0042\n",
            "Epoch 155/200\n",
            "59/59 [==============================] - 0s 5ms/step - loss: 0.0041 - val_loss: 0.0036\n",
            "Epoch 156/200\n",
            "59/59 [==============================] - 0s 7ms/step - loss: 0.0041 - val_loss: 0.0043\n",
            "Epoch 157/200\n",
            "59/59 [==============================] - 0s 6ms/step - loss: 0.0042 - val_loss: 0.0037\n",
            "Epoch 158/200\n",
            "59/59 [==============================] - 0s 6ms/step - loss: 0.0040 - val_loss: 0.0038\n",
            "Epoch 159/200\n",
            "59/59 [==============================] - 0s 7ms/step - loss: 0.0040 - val_loss: 0.0039\n",
            "Epoch 160/200\n",
            "59/59 [==============================] - 0s 7ms/step - loss: 0.0040 - val_loss: 0.0038\n",
            "Epoch 161/200\n",
            "59/59 [==============================] - 0s 7ms/step - loss: 0.0041 - val_loss: 0.0036\n",
            "Epoch 162/200\n",
            "59/59 [==============================] - 0s 5ms/step - loss: 0.0040 - val_loss: 0.0037\n",
            "Epoch 163/200\n",
            "59/59 [==============================] - 0s 5ms/step - loss: 0.0041 - val_loss: 0.0038\n",
            "Epoch 164/200\n",
            "59/59 [==============================] - 0s 5ms/step - loss: 0.0041 - val_loss: 0.0038\n",
            "Epoch 165/200\n",
            "59/59 [==============================] - 0s 5ms/step - loss: 0.0041 - val_loss: 0.0037\n",
            "Epoch 166/200\n",
            "59/59 [==============================] - 0s 5ms/step - loss: 0.0043 - val_loss: 0.0039\n",
            "Epoch 167/200\n",
            "59/59 [==============================] - 0s 5ms/step - loss: 0.0041 - val_loss: 0.0038\n",
            "Epoch 168/200\n",
            "59/59 [==============================] - 0s 5ms/step - loss: 0.0040 - val_loss: 0.0037\n",
            "Epoch 169/200\n",
            "59/59 [==============================] - 0s 5ms/step - loss: 0.0040 - val_loss: 0.0039\n",
            "Epoch 170/200\n",
            "59/59 [==============================] - 0s 6ms/step - loss: 0.0041 - val_loss: 0.0036\n",
            "Epoch 171/200\n",
            "59/59 [==============================] - 0s 5ms/step - loss: 0.0041 - val_loss: 0.0038\n",
            "Epoch 172/200\n",
            "59/59 [==============================] - 0s 5ms/step - loss: 0.0040 - val_loss: 0.0038\n",
            "Epoch 173/200\n",
            "59/59 [==============================] - 0s 6ms/step - loss: 0.0041 - val_loss: 0.0038\n",
            "Epoch 174/200\n",
            "59/59 [==============================] - 0s 5ms/step - loss: 0.0041 - val_loss: 0.0038\n",
            "Epoch 175/200\n",
            "59/59 [==============================] - 0s 5ms/step - loss: 0.0040 - val_loss: 0.0037\n",
            "Epoch 176/200\n",
            "59/59 [==============================] - 0s 5ms/step - loss: 0.0042 - val_loss: 0.0036\n",
            "Epoch 177/200\n",
            "59/59 [==============================] - 0s 5ms/step - loss: 0.0040 - val_loss: 0.0036\n",
            "Epoch 178/200\n",
            "59/59 [==============================] - 0s 5ms/step - loss: 0.0040 - val_loss: 0.0037\n",
            "Epoch 179/200\n",
            "59/59 [==============================] - 0s 4ms/step - loss: 0.0042 - val_loss: 0.0037\n",
            "Epoch 180/200\n",
            "59/59 [==============================] - 0s 5ms/step - loss: 0.0041 - val_loss: 0.0036\n",
            "Epoch 181/200\n",
            "59/59 [==============================] - 0s 5ms/step - loss: 0.0041 - val_loss: 0.0036\n",
            "Epoch 182/200\n",
            "59/59 [==============================] - 0s 5ms/step - loss: 0.0040 - val_loss: 0.0037\n",
            "Epoch 183/200\n",
            "59/59 [==============================] - 0s 4ms/step - loss: 0.0040 - val_loss: 0.0037\n",
            "Epoch 184/200\n",
            "59/59 [==============================] - 0s 5ms/step - loss: 0.0040 - val_loss: 0.0039\n",
            "Epoch 185/200\n",
            "59/59 [==============================] - 0s 5ms/step - loss: 0.0041 - val_loss: 0.0036\n",
            "Epoch 186/200\n",
            "59/59 [==============================] - 0s 5ms/step - loss: 0.0041 - val_loss: 0.0039\n",
            "Epoch 187/200\n",
            "59/59 [==============================] - 0s 5ms/step - loss: 0.0040 - val_loss: 0.0037\n",
            "Epoch 188/200\n",
            "59/59 [==============================] - 0s 5ms/step - loss: 0.0040 - val_loss: 0.0040\n",
            "Epoch 189/200\n",
            "59/59 [==============================] - 0s 4ms/step - loss: 0.0041 - val_loss: 0.0036\n",
            "Epoch 190/200\n",
            "59/59 [==============================] - 0s 5ms/step - loss: 0.0040 - val_loss: 0.0037\n",
            "Epoch 191/200\n",
            "59/59 [==============================] - 0s 5ms/step - loss: 0.0040 - val_loss: 0.0037\n",
            "Epoch 192/200\n",
            "59/59 [==============================] - 0s 5ms/step - loss: 0.0041 - val_loss: 0.0038\n",
            "Epoch 193/200\n",
            "59/59 [==============================] - 0s 5ms/step - loss: 0.0040 - val_loss: 0.0036\n",
            "Epoch 194/200\n",
            "59/59 [==============================] - 0s 5ms/step - loss: 0.0040 - val_loss: 0.0038\n",
            "Epoch 195/200\n",
            "59/59 [==============================] - 0s 5ms/step - loss: 0.0041 - val_loss: 0.0037\n",
            "Epoch 196/200\n",
            "59/59 [==============================] - 0s 7ms/step - loss: 0.0040 - val_loss: 0.0036\n",
            "Epoch 197/200\n",
            "59/59 [==============================] - 0s 7ms/step - loss: 0.0040 - val_loss: 0.0038\n",
            "Epoch 198/200\n",
            "59/59 [==============================] - 0s 7ms/step - loss: 0.0041 - val_loss: 0.0041\n",
            "Epoch 199/200\n",
            "59/59 [==============================] - 0s 7ms/step - loss: 0.0040 - val_loss: 0.0037\n",
            "Epoch 200/200\n",
            "59/59 [==============================] - 0s 7ms/step - loss: 0.0041 - val_loss: 0.0038\n"
          ]
        }
      ],
      "source": [
        "opt = optimizers.Adamax(learning_rate=LR)\n",
        "modelANN.compile(optimizer=opt, loss=['mse'])\n",
        "history = modelANN.fit(X_train, y_train,epochs=EPOCHS, validation_data = (X_test,y_test), verbose=1)"
      ]
    },
    {
      "cell_type": "code",
      "execution_count": 10,
      "metadata": {
        "colab": {
          "base_uri": "https://localhost:8080/"
        },
        "id": "Yw0gF45Eb5iL",
        "outputId": "340e113e-9c73-4885-de76-c07eb29e102a"
      },
      "outputs": [
        {
          "output_type": "stream",
          "name": "stdout",
          "text": [
            "15/15 [==============================] - 0s 3ms/step\n"
          ]
        }
      ],
      "source": [
        "y_pred = modelANN.predict(X_test)"
      ]
    },
    {
      "cell_type": "code",
      "execution_count": 11,
      "metadata": {
        "id": "ExwVujDqb-IZ"
      },
      "outputs": [],
      "source": [
        "y_pred = y_pred*dfm_max\n",
        "y_test = y_test*dfm_max"
      ]
    },
    {
      "cell_type": "code",
      "execution_count": 12,
      "metadata": {
        "colab": {
          "base_uri": "https://localhost:8080/",
          "height": 447
        },
        "id": "8KhCD0IALQQl",
        "outputId": "38710031-03f8-418e-d20d-e94eb358dca0"
      },
      "outputs": [
        {
          "output_type": "execute_result",
          "data": {
            "text/plain": [
              "[<matplotlib.lines.Line2D at 0x7fdf20326430>]"
            ]
          },
          "metadata": {},
          "execution_count": 12
        },
        {
          "output_type": "display_data",
          "data": {
            "text/plain": [
              "<Figure size 640x480 with 4 Axes>"
            ],
            "image/png": "[encoded data removed]"
          },
          "metadata": {}
        }
      ],
      "source": [
        "# Plot some results: truth vs prediction\n",
        "ntest1 = 0 \n",
        "ntest2 = 100 \n",
        "ntest3 = 200\n",
        "ntest4 = 400 \n",
        "fig, axs = plt.subplots(2, 2)\n",
        "axs[0, 0].plot(y_pred[ntest1,:])\n",
        "axs[0, 0].plot(y_test.iloc[ntest1,:])\n",
        "axs[0, 1].plot(y_pred[ntest2,:])\n",
        "axs[0, 1].plot(y_test.iloc[ntest2,:])\n",
        "axs[1, 0].plot(y_pred[ntest3,:])\n",
        "axs[1, 0].plot(y_test.iloc[ntest3,:])\n",
        "axs[1, 1].plot(y_pred[ntest4,:])\n",
        "axs[1, 1].plot(y_test.iloc[ntest4,:])"
      ]
    },
    {
      "cell_type": "code",
      "execution_count": 13,
      "metadata": {
        "id": "8uK5ac1JMIrC"
      },
      "outputs": [],
      "source": [
        "y_test.to_csv('FCNN_ytest.csv')\n",
        "pd.DataFrame(y_pred).to_csv('FCNN_ypred.csv')\n",
        "X_test.to_csv('FCNN_inputs.csv')"
      ]
    },
    {
      "cell_type": "code",
      "execution_count": 14,
      "metadata": {
        "colab": {
          "base_uri": "https://localhost:8080/",
          "height": 17
        },
        "id": "Lt5chk_ivv9e",
        "outputId": "af706d2c-7ec9-4928-c588-1d14cba6c587"
      },
      "outputs": [
        {
          "output_type": "display_data",
          "data": {
            "text/plain": [
              "<IPython.core.display.Javascript object>"
            ],
            "application/javascript": [
              "\n",
              "    async function download(id, filename, size) {\n",
              "      if (!google.colab.kernel.accessAllowed) {\n",
              "        return;\n",
              "      }\n",
              "      const div = document.createElement('div');\n",
              "      const label = document.createElement('label');\n",
              "      label.textContent = `Downloading \"${filename}\": `;\n",
              "      div.appendChild(label);\n",
              "      const progress = document.createElement('progress');\n",
              "      progress.max = size;\n",
              "      div.appendChild(progress);\n",
              "      document.body.appendChild(div);\n",
              "\n",
              "      const buffers = [];\n",
              "      let downloaded = 0;\n",
              "\n",
              "      const channel = await google.colab.kernel.comms.open(id);\n",
              "      // Send a message to notify the kernel that we're ready.\n",
              "      channel.send({})\n",
              "\n",
              "      for await (const message of channel.messages) {\n",
              "        // Send a message to notify the kernel that we're ready.\n",
              "        channel.send({})\n",
              "        if (message.buffers) {\n",
              "          for (const buffer of message.buffers) {\n",
              "            buffers.push(buffer);\n",
              "            downloaded += buffer.byteLength;\n",
              "            progress.value = downloaded;\n",
              "          }\n",
              "        }\n",
              "      }\n",
              "      const blob = new Blob(buffers, {type: 'application/binary'});\n",
              "      const a = document.createElement('a');\n",
              "      a.href = window.URL.createObjectURL(blob);\n",
              "      a.download = filename;\n",
              "      div.appendChild(a);\n",
              "      a.click();\n",
              "      div.remove();\n",
              "    }\n",
              "  "
            ]
          },
          "metadata": {}
        },
        {
          "output_type": "display_data",
          "data": {
            "text/plain": [
              "<IPython.core.display.Javascript object>"
            ],
            "application/javascript": [
              "download(\"download_1e14b847-6b1d-4827-930a-975bc0be771a\", \"FCNN_ytest.csv\", 955837)"
            ]
          },
          "metadata": {}
        },
        {
          "output_type": "display_data",
          "data": {
            "text/plain": [
              "<IPython.core.display.Javascript object>"
            ],
            "application/javascript": [
              "\n",
              "    async function download(id, filename, size) {\n",
              "      if (!google.colab.kernel.accessAllowed) {\n",
              "        return;\n",
              "      }\n",
              "      const div = document.createElement('div');\n",
              "      const label = document.createElement('label');\n",
              "      label.textContent = `Downloading \"${filename}\": `;\n",
              "      div.appendChild(label);\n",
              "      const progress = document.createElement('progress');\n",
              "      progress.max = size;\n",
              "      div.appendChild(progress);\n",
              "      document.body.appendChild(div);\n",
              "\n",
              "      const buffers = [];\n",
              "      let downloaded = 0;\n",
              "\n",
              "      const channel = await google.colab.kernel.comms.open(id);\n",
              "      // Send a message to notify the kernel that we're ready.\n",
              "      channel.send({})\n",
              "\n",
              "      for await (const message of channel.messages) {\n",
              "        // Send a message to notify the kernel that we're ready.\n",
              "        channel.send({})\n",
              "        if (message.buffers) {\n",
              "          for (const buffer of message.buffers) {\n",
              "            buffers.push(buffer);\n",
              "            downloaded += buffer.byteLength;\n",
              "            progress.value = downloaded;\n",
              "          }\n",
              "        }\n",
              "      }\n",
              "      const blob = new Blob(buffers, {type: 'application/binary'});\n",
              "      const a = document.createElement('a');\n",
              "      a.href = window.URL.createObjectURL(blob);\n",
              "      a.download = filename;\n",
              "      div.appendChild(a);\n",
              "      a.click();\n",
              "      div.remove();\n",
              "    }\n",
              "  "
            ]
          },
          "metadata": {}
        },
        {
          "output_type": "display_data",
          "data": {
            "text/plain": [
              "<IPython.core.display.Javascript object>"
            ],
            "application/javascript": [
              "download(\"download_0ae7254b-1caf-437a-8753-576d8f31b503\", \"FCNN_ypred.csv\", 476472)"
            ]
          },
          "metadata": {}
        },
        {
          "output_type": "display_data",
          "data": {
            "text/plain": [
              "<IPython.core.display.Javascript object>"
            ],
            "application/javascript": [
              "\n",
              "    async function download(id, filename, size) {\n",
              "      if (!google.colab.kernel.accessAllowed) {\n",
              "        return;\n",
              "      }\n",
              "      const div = document.createElement('div');\n",
              "      const label = document.createElement('label');\n",
              "      label.textContent = `Downloading \"${filename}\": `;\n",
              "      div.appendChild(label);\n",
              "      const progress = document.createElement('progress');\n",
              "      progress.max = size;\n",
              "      div.appendChild(progress);\n",
              "      document.body.appendChild(div);\n",
              "\n",
              "      const buffers = [];\n",
              "      let downloaded = 0;\n",
              "\n",
              "      const channel = await google.colab.kernel.comms.open(id);\n",
              "      // Send a message to notify the kernel that we're ready.\n",
              "      channel.send({})\n",
              "\n",
              "      for await (const message of channel.messages) {\n",
              "        // Send a message to notify the kernel that we're ready.\n",
              "        channel.send({})\n",
              "        if (message.buffers) {\n",
              "          for (const buffer of message.buffers) {\n",
              "            buffers.push(buffer);\n",
              "            downloaded += buffer.byteLength;\n",
              "            progress.value = downloaded;\n",
              "          }\n",
              "        }\n",
              "      }\n",
              "      const blob = new Blob(buffers, {type: 'application/binary'});\n",
              "      const a = document.createElement('a');\n",
              "      a.href = window.URL.createObjectURL(blob);\n",
              "      a.download = filename;\n",
              "      div.appendChild(a);\n",
              "      a.click();\n",
              "      div.remove();\n",
              "    }\n",
              "  "
            ]
          },
          "metadata": {}
        },
        {
          "output_type": "display_data",
          "data": {
            "text/plain": [
              "<IPython.core.display.Javascript object>"
            ],
            "application/javascript": [
              "download(\"download_0a2a2f5d-37d2-4df4-8638-f49bdd73b5b0\", \"FCNN_inputs.csv\", 986272)"
            ]
          },
          "metadata": {}
        }
      ],
      "source": [
        "files.download('FCNN_ytest.csv')\n",
        "files.download('FCNN_ypred.csv')\n",
        "files.download('FCNN_inputs.csv')"
      ]
    },
    {
      "cell_type": "code",
      "execution_count": 16,
      "metadata": {
        "id": "fkMRqm36rHWQ",
        "colab": {
          "base_uri": "https://localhost:8080/"
        },
        "outputId": "dd4a0be0-d4dc-49a2-fe91-971e1cb0de98"
      },
      "outputs": [
        {
          "output_type": "execute_result",
          "data": {
            "text/plain": [
              "0.004771796719919478"
            ]
          },
          "metadata": {},
          "execution_count": 16
        }
      ],
      "source": [
        "normalized_mse = mean_squared_error(y_test,y_pred)/dfr_max**2\n",
        "normalized_mse"
      ]
    },
    {
      "cell_type": "code",
      "source": [],
      "metadata": {
        "id": "gIqBiU_tLxK9"
      },
      "execution_count": null,
      "outputs": []
    }
  ],
  "metadata": {
    "accelerator": "GPU",
    "colab": {
      "provenance": [],
      "include_colab_link": true
    },
    "gpuClass": "standard",
    "kernelspec": {
      "display_name": "Python 3 (ipykernel)",
      "language": "python",
      "name": "python3"
    },
    "language_info": {
      "codemirror_mode": {
        "name": "ipython",
        "version": 3
      },
      "file_extension": ".py",
      "mimetype": "text/x-python",
      "name": "python",
      "nbconvert_exporter": "python",
      "pygments_lexer": "ipython3",
      "version": "3.10.10"
    }
  },
  "nbformat": 4,
  "nbformat_minor": 0
}
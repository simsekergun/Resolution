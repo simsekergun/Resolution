{
  "cells": [
    {
      "cell_type": "markdown",
      "metadata": {
        "id": "view-in-github",
        "colab_type": "text"
      },
      "source": [
        "<a href=\"https://colab.research.google.com/github/simsekergun/Resolution/blob/main/notebooks/Resolution_mse_vs_N_LinearRegression.ipynb\" target=\"_parent\"><img src=\"https://colab.research.google.com/assets/colab-badge.svg\" alt=\"Open In Colab\"/></a>"
      ]
    },
    {
      "cell_type": "code",
      "execution_count": 1,
      "metadata": {
        "id": "KVJosSnoZwhA"
      },
      "outputs": [],
      "source": [
        "import numpy as np\n",
        "import matplotlib.pyplot as plt\n",
        "import pandas as pd\n",
        "from sklearn import metrics \n",
        "from sklearn.model_selection import train_test_split\n",
        "from sklearn.metrics import mean_squared_error\n",
        "from sklearn.linear_model import LinearRegression  \n",
        "from sklearn.metrics import mean_squared_error"
      ]
    },
    {
      "cell_type": "code",
      "execution_count": 2,
      "metadata": {
        "colab": {
          "base_uri": "https://localhost:8080/"
        },
        "id": "5fCpixdEZytf",
        "outputId": "9f66c0a7-9563-4da4-8468-d5bd23cbd492"
      },
      "outputs": [
        {
          "output_type": "execute_result",
          "data": {
            "text/plain": [
              "((2330, 110), (2330, 100))"
            ]
          },
          "metadata": {},
          "execution_count": 2
        }
      ],
      "source": [
        "df_m = pd.read_csv('https://raw.githubusercontent.com/simsekergun/Resolution/main/datasets/Es_measured.csv',header=None)\n",
        "df_r = pd.read_csv('https://raw.githubusercontent.com/simsekergun/Resolution/main/datasets/Es_real.csv',header=None)\n",
        "df_m.shape, df_r.shape"
      ]
    },
    {
      "cell_type": "code",
      "execution_count": 3,
      "metadata": {
        "id": "2-P1miHCaRDK"
      },
      "outputs": [],
      "source": [
        "df_mmax = max(df_m.max())\n",
        "df_rmax = max(df_r.max())\n",
        "X = df_m/df_mmax\n",
        "y = df_r/df_rmax"
      ]
    },
    {
      "cell_type": "code",
      "execution_count": 4,
      "metadata": {
        "colab": {
          "base_uri": "https://localhost:8080/"
        },
        "id": "PKRaRjW7M3HK",
        "outputId": "6ad93dcd-8241-4b90-ea01-fab3ed089fb2"
      },
      "outputs": [
        {
          "output_type": "execute_result",
          "data": {
            "text/plain": [
              "(528.27, 470.16)"
            ]
          },
          "metadata": {},
          "execution_count": 4
        }
      ],
      "source": [
        "df_mmax,df_rmax"
      ]
    },
    {
      "cell_type": "code",
      "execution_count": 5,
      "metadata": {
        "colab": {
          "base_uri": "https://localhost:8080/"
        },
        "id": "T9-Daf1fZ7yO",
        "outputId": "20ca8808-b194-46d6-bdd5-4c186289ff38"
      },
      "outputs": [
        {
          "output_type": "execute_result",
          "data": {
            "text/plain": [
              "((1631, 110), (699, 110), (1631, 100))"
            ]
          },
          "metadata": {},
          "execution_count": 5
        }
      ],
      "source": [
        "X_train, X_test, y_train, y_test = train_test_split(X, y, test_size=0.3, random_state=9)\n",
        "X_train.shape, X_test.shape, y_train.shape"
      ]
    },
    {
      "cell_type": "code",
      "execution_count": 6,
      "metadata": {
        "id": "40Nt5qfb_8uW"
      },
      "outputs": [],
      "source": [
        "Ns = [50, 60, 70, 80, 90, 100, 110, 120, 130, 140, 150, 160, 170, 180, 190, 200, 210, 220, 230, 240, 250, 275, 300, 350, 400, 450, 500, 550, 600, 1000, 1300, 1600]"
      ]
    },
    {
      "cell_type": "code",
      "execution_count": 7,
      "metadata": {
        "id": "x6KuHSH5z44q"
      },
      "outputs": [],
      "source": [
        "mean_errors = np.zeros(len(Ns))\n",
        "for i in range(len(Ns)):\n",
        "  reg = LinearRegression()         # Instantiate\n",
        "  reg.fit(X_train[:Ns[i]], y_train[:Ns[i]])        # Fit the train data\n",
        "  y_pred = reg.predict(X_test)  \n",
        "  mean_errors[i] = mean_squared_error(y_pred, y_test)"
      ]
    },
    {
      "cell_type": "code",
      "execution_count": 8,
      "metadata": {
        "colab": {
          "base_uri": "https://localhost:8080/",
          "height": 430
        },
        "id": "7Gq13JJSM3HK",
        "outputId": "b62598e6-a784-43a4-aec9-c0308fadffa0"
      },
      "outputs": [
        {
          "output_type": "display_data",
          "data": {
            "text/plain": [
              "<Figure size 640x480 with 1 Axes>"
            ],
            "image/png": "[encoded data removed]"
          },
          "metadata": {}
        }
      ],
      "source": [
        "plt.plot(Ns,mean_errors)\n",
        "plt.yscale(\"log\")\n",
        "plt.show()"
      ]
    },
    {
      "cell_type": "code",
      "execution_count": 9,
      "metadata": {
        "colab": {
          "base_uri": "https://localhost:8080/"
        },
        "id": "wbQygHat1KDF",
        "outputId": "9a2d41be-3d17-48f5-96d9-91209d7096fe"
      },
      "outputs": [
        {
          "output_type": "execute_result",
          "data": {
            "text/plain": [
              "array([8.78290632e-03, 9.19078251e-03, 9.50645297e-03, 1.30778865e-02,\n",
              "       1.88309424e-02, 2.73959501e-02, 5.14647727e+00, 6.29747662e-02,\n",
              "       1.97658710e-02, 1.64392601e-02, 1.33186823e-02, 1.04114232e-02,\n",
              "       9.41548323e-03, 8.52933851e-03, 7.78580177e-03, 7.37293434e-03,\n",
              "       6.99977227e-03, 6.30868149e-03, 6.09545952e-03, 5.91218796e-03,\n",
              "       5.65762031e-03, 5.26693269e-03, 5.00659968e-03, 4.50808971e-03,\n",
              "       4.16213807e-03, 3.99692965e-03, 3.85820795e-03, 3.73968117e-03,\n",
              "       3.66521034e-03, 3.29219271e-03, 3.16564041e-03, 3.13411429e-03])"
            ]
          },
          "metadata": {},
          "execution_count": 9
        }
      ],
      "source": [
        "mean_errors"
      ]
    }
  ],
  "metadata": {
    "accelerator": "GPU",
    "colab": {
      "provenance": [],
      "include_colab_link": true
    },
    "gpuClass": "standard",
    "kernelspec": {
      "display_name": "Python 3 (ipykernel)",
      "language": "python",
      "name": "python3"
    },
    "language_info": {
      "codemirror_mode": {
        "name": "ipython",
        "version": 3
      },
      "file_extension": ".py",
      "mimetype": "text/x-python",
      "name": "python",
      "nbconvert_exporter": "python",
      "pygments_lexer": "ipython3",
      "version": "3.10.9"
    }
  },
  "nbformat": 4,
  "nbformat_minor": 0
}
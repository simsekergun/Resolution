{
  "cells": [
    {
      "cell_type": "markdown",
      "metadata": {
        "id": "view-in-github",
        "colab_type": "text"
      },
      "source": [
        "<a href=\"https://colab.research.google.com/github/simsekergun/Resolution/blob/main/notebooks/Resolution_mse_vs_N_FCNN_varying_length.ipynb\" target=\"_parent\"><img src=\"https://colab.research.google.com/assets/colab-badge.svg\" alt=\"Open In Colab\"/></a>"
      ]
    },
    {
      "cell_type": "code",
      "execution_count": 1,
      "metadata": {
        "id": "KVJosSnoZwhA"
      },
      "outputs": [],
      "source": [
        "import numpy as np\n",
        "import matplotlib.pyplot as plt\n",
        "import pandas as pd\n",
        "from sklearn import metrics \n",
        "from sklearn.model_selection import train_test_split\n",
        "from sklearn.metrics import mean_squared_error\n",
        "from sklearn.linear_model import LinearRegression  \n",
        "from sklearn.metrics import mean_squared_error"
      ]
    },
    {
      "cell_type": "code",
      "execution_count": 2,
      "metadata": {
        "id": "0Hn__WsD692B"
      },
      "outputs": [],
      "source": [
        "# Multilayer Perceptron\n",
        "from keras.models import Model\n",
        "from keras.layers import Input\n",
        "from keras.layers import Dense\n",
        "from keras.layers import Dropout\n",
        "from keras.layers import concatenate\n",
        "from tensorflow.keras import optimizers\n",
        "from tensorflow.keras import backend\n",
        "from keras.layers import LeakyReLU, PReLU\n",
        "from tensorflow.keras.metrics import categorical_accuracy"
      ]
    },
    {
      "cell_type": "code",
      "execution_count": 3,
      "metadata": {
        "colab": {
          "base_uri": "https://localhost:8080/"
        },
        "id": "5fCpixdEZytf",
        "outputId": "960b2ff8-c910-449f-eff4-55637c769ea6"
      },
      "outputs": [
        {
          "output_type": "execute_result",
          "data": {
            "text/plain": [
              "((2330, 200), (2330, 400))"
            ]
          },
          "metadata": {},
          "execution_count": 3
        }
      ],
      "source": [
        "df_m = pd.read_csv('https://raw.githubusercontent.com/simsekergun/Resolution/main/datasets/Es_measured_varying_length.csv',header=None)\n",
        "df_r = pd.read_csv('https://raw.githubusercontent.com/simsekergun/Resolution/main/datasets/Es_real_varying_length.csv',header=None)\n",
        "df_m.shape, df_r.shape"
      ]
    },
    {
      "cell_type": "code",
      "source": [
        "df_mmax = max(df_m.max())\n",
        "df_rmax = max(df_r.max())\n",
        "df_mmax, df_rmax"
      ],
      "metadata": {
        "id": "qD-8JtO5Um50",
        "colab": {
          "base_uri": "https://localhost:8080/"
        },
        "outputId": "9f94152a-81da-4675-99b8-92305d03c24a"
      },
      "execution_count": 4,
      "outputs": [
        {
          "output_type": "execute_result",
          "data": {
            "text/plain": [
              "(488.53, 464.14)"
            ]
          },
          "metadata": {},
          "execution_count": 4
        }
      ]
    },
    {
      "cell_type": "code",
      "execution_count": 5,
      "metadata": {
        "id": "2-P1miHCaRDK"
      },
      "outputs": [],
      "source": [
        "X = df_m/df_mmax\n",
        "y = df_r/df_rmax"
      ]
    },
    {
      "cell_type": "code",
      "execution_count": 6,
      "metadata": {
        "colab": {
          "base_uri": "https://localhost:8080/"
        },
        "id": "T9-Daf1fZ7yO",
        "outputId": "81c9f0be-b96d-4bf4-c846-acf09755c786"
      },
      "outputs": [
        {
          "output_type": "execute_result",
          "data": {
            "text/plain": [
              "((1631, 200), (699, 200), (1631, 400))"
            ]
          },
          "metadata": {},
          "execution_count": 6
        }
      ],
      "source": [
        "X_train, X_test, y_train, y_test = train_test_split(X, y, test_size=0.3, random_state=3)\n",
        "X_train.shape, X_test.shape, y_train.shape"
      ]
    },
    {
      "cell_type": "code",
      "execution_count": 7,
      "metadata": {
        "id": "40Nt5qfb_8uW"
      },
      "outputs": [],
      "source": [
        "Ns = [50, 100, 150, 200, 250, 300, 400, 500, 800, 1000, 1300, 1600]"
      ]
    },
    {
      "cell_type": "code",
      "execution_count": 8,
      "metadata": {
        "id": "_BBz51Km692C"
      },
      "outputs": [],
      "source": [
        "# ANN parameters\n",
        "ac = 'ReLU'  # activation function\n",
        "nnno = 1000    # number of neurons\n",
        "dr_rate = 0.2  # dropout rate\n",
        "EPOCHS = 200    # number of epocs\n",
        "LR = 0.001     # learning rate\n",
        "ninput=200\n",
        "noutput=400"
      ]
    },
    {
      "cell_type": "code",
      "execution_count": 9,
      "metadata": {
        "colab": {
          "base_uri": "https://localhost:8080/"
        },
        "id": "x6KuHSH5z44q",
        "outputId": "74cd96b8-e112-4793-82fd-6dc1df8d851d"
      },
      "outputs": [
        {
          "output_type": "stream",
          "name": "stdout",
          "text": [
            "22/22 [==============================] - 0s 2ms/step\n",
            "22/22 [==============================] - 0s 2ms/step\n",
            "22/22 [==============================] - 0s 6ms/step\n",
            "22/22 [==============================] - 0s 2ms/step\n",
            "22/22 [==============================] - 0s 2ms/step\n",
            "22/22 [==============================] - 0s 2ms/step\n",
            "22/22 [==============================] - 0s 2ms/step\n",
            "22/22 [==============================] - 0s 2ms/step\n",
            "22/22 [==============================] - 0s 2ms/step\n",
            "22/22 [==============================] - 0s 2ms/step\n",
            "22/22 [==============================] - 0s 2ms/step\n",
            "22/22 [==============================] - 0s 2ms/step\n"
          ]
        }
      ],
      "source": [
        "#X_train, X_test, y_train, y_test\n",
        "mean_errors = np.zeros(len(Ns))\n",
        "for i in range(len(Ns)):  \n",
        "  visible = Input(shape=(ninput,))\n",
        "  hidden1 = Dense(nnno, activation=ac)(visible)\n",
        "  hidden1 = Dropout(dr_rate)(hidden1)\n",
        "  hidden2 = Dense(nnno, activation=ac)(hidden1)\n",
        "  hidden2 = Dropout(dr_rate)(hidden2)\n",
        "  hidden3 = Dense(nnno, activation=ac)(hidden2)\n",
        "  hidden3 = Dropout(dr_rate)(hidden3)\n",
        "  hidden4 = Dense(nnno, activation=ac)(hidden3)\n",
        "  hidden4 = Dropout(dr_rate)(hidden4)\n",
        "  predicted_value = Dense(noutput)(hidden4)\n",
        "  modelANN = Model(inputs=visible, outputs=predicted_value)\n",
        "  opt = optimizers.Adamax(learning_rate=LR)    \n",
        "  modelANN.compile(optimizer=opt, loss=['mse'])\n",
        "  history = modelANN.fit(X_train[:Ns[i]], y_train[:Ns[i]],epochs=EPOCHS, validation_data = (X_test,y_test), verbose=0)\n",
        "  y_pred = modelANN.predict(X_test)\n",
        "  mean_errors[i] = mean_squared_error(y_pred, y_test)\n",
        "  del modelANN"
      ]
    },
    {
      "cell_type": "code",
      "execution_count": 10,
      "metadata": {
        "colab": {
          "base_uri": "https://localhost:8080/",
          "height": 430
        },
        "id": "s8zsNGCR692C",
        "outputId": "d0d76dd6-efe8-480a-a21a-c14c5555bf1a"
      },
      "outputs": [
        {
          "output_type": "display_data",
          "data": {
            "text/plain": [
              "<Figure size 640x480 with 1 Axes>"
            ],
            "image/png": "[encoded data removed]"
          },
          "metadata": {}
        }
      ],
      "source": [
        "plt.plot(Ns,mean_errors)\n",
        "plt.yscale(\"log\")\n",
        "plt.show()"
      ]
    },
    {
      "cell_type": "code",
      "source": [
        "mean_errors"
      ],
      "metadata": {
        "colab": {
          "base_uri": "https://localhost:8080/"
        },
        "id": "pM-Qcb0GY4LM",
        "outputId": "05e20c8f-5691-45d9-a5b5-25622a91b4bf"
      },
      "execution_count": 11,
      "outputs": [
        {
          "output_type": "execute_result",
          "data": {
            "text/plain": [
              "array([0.00399172, 0.00374105, 0.00367698, 0.00347072, 0.00320967,\n",
              "       0.00314265, 0.00272878, 0.00227729, 0.00194105, 0.00215585,\n",
              "       0.00212733, 0.00250978])"
            ]
          },
          "metadata": {},
          "execution_count": 11
        }
      ]
    }
  ],
  "metadata": {
    "accelerator": "GPU",
    "colab": {
      "provenance": [],
      "include_colab_link": true
    },
    "gpuClass": "standard",
    "kernelspec": {
      "display_name": "Python 3 (ipykernel)",
      "language": "python",
      "name": "python3"
    },
    "language_info": {
      "codemirror_mode": {
        "name": "ipython",
        "version": 3
      },
      "file_extension": ".py",
      "mimetype": "text/x-python",
      "name": "python",
      "nbconvert_exporter": "python",
      "pygments_lexer": "ipython3",
      "version": "3.9.15"
    }
  },
  "nbformat": 4,
  "nbformat_minor": 0
}
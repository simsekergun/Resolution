{
  "nbformat": 4,
  "nbformat_minor": 0,
  "metadata": {
    "colab": {
      "provenance": [],
      "authorship_tag": "ABX9TyMg2TtHZChHD4pFfV8+tEAR",
      "include_colab_link": true
    },
    "kernelspec": {
      "name": "python3",
      "display_name": "Python 3"
    },
    "language_info": {
      "name": "python"
    },
    "accelerator": "GPU",
    "gpuClass": "standard"
  },
  "cells": [
    {
      "cell_type": "markdown",
      "metadata": {
        "id": "view-in-github",
        "colab_type": "text"
      },
      "source": [
        "<a href=\"https://colab.research.google.com/github/simsekergun/Resolution/blob/main/ResolutionFCNN.ipynb\" target=\"_parent\"><img src=\"https://colab.research.google.com/assets/colab-badge.svg\" alt=\"Open In Colab\"/></a>"
      ]
    },
    {
      "cell_type": "code",
      "execution_count": null,
      "metadata": {
        "id": "KVJosSnoZwhA"
      },
      "outputs": [],
      "source": [
        "import numpy as np\n",
        "import matplotlib.pyplot as plt\n",
        "import pandas as pd\n",
        "from sklearn import metrics \n",
        "from sklearn.model_selection import train_test_split\n",
        "from sklearn.metrics import mean_squared_error"
      ]
    },
    {
      "cell_type": "code",
      "source": [
        "# Multilayer Perceptron\n",
        "from keras.models import Model\n",
        "from keras.layers import Input\n",
        "from keras.layers import Dense\n",
        "from keras.layers import Dropout\n",
        "from keras.layers import concatenate\n",
        "from tensorflow.keras import optimizers\n",
        "from tensorflow.keras import backend\n",
        "from keras.layers import LeakyReLU, PReLU\n",
        "from tensorflow.keras.metrics import categorical_accuracy"
      ],
      "metadata": {
        "id": "XPCXBSsKZ-Nl"
      },
      "execution_count": null,
      "outputs": []
    },
    {
      "cell_type": "code",
      "source": [
        "df_m = pd.read_csv('https://raw.githubusercontent.com/simsekergun/Resolution/main/Es_measured.csv',header=None)\n",
        "df_r = pd.read_csv('https://raw.githubusercontent.com/simsekergun/Resolution/main/Es_real.csv',header=None)\n",
        "df_m.shape, df_r.shape"
      ],
      "metadata": {
        "colab": {
          "base_uri": "https://localhost:8080/"
        },
        "id": "5fCpixdEZytf",
        "outputId": "26fe1d5e-ac33-4277-ccc3-b071532610cb"
      },
      "execution_count": null,
      "outputs": [
        {
          "output_type": "execute_result",
          "data": {
            "text/plain": [
              "((2330, 110), (2330, 100))"
            ]
          },
          "metadata": {},
          "execution_count": 3
        }
      ]
    },
    {
      "cell_type": "code",
      "source": [
        "X = df_m\n",
        "y = df_r"
      ],
      "metadata": {
        "id": "2-P1miHCaRDK"
      },
      "execution_count": null,
      "outputs": []
    },
    {
      "cell_type": "code",
      "source": [
        "X_train, X_test, y_train, y_test = train_test_split(X, y, test_size=0.1, random_state=5)\n",
        "X_train.shape, X_test.shape, y_train.shape"
      ],
      "metadata": {
        "colab": {
          "base_uri": "https://localhost:8080/"
        },
        "id": "T9-Daf1fZ7yO",
        "outputId": "125a53e5-2f58-49d2-828e-e8647d7160fb"
      },
      "execution_count": null,
      "outputs": [
        {
          "output_type": "execute_result",
          "data": {
            "text/plain": [
              "((2097, 110), (233, 110), (2097, 100))"
            ]
          },
          "metadata": {},
          "execution_count": 5
        }
      ]
    },
    {
      "cell_type": "code",
      "source": [
        "# Let us some functions to normalize, de-normalize, and to calculate errors\n",
        "def normx(x):\n",
        "  return (x - train_statsX['mean']) / train_statsX['std']\n",
        "def norm(y):\n",
        "  return (y - train_statsY['mean']) / train_statsY['std']\n",
        "def denorm(y):\n",
        "  return (y* train_statsY['std'] + train_statsY['mean'])  \n",
        "def mean_aep(u1,u2):  \n",
        "  return (round(100*(100*sum(abs((u2-u1)/u1))/len(u1)))/100)\n",
        "def max_aep(u1,u2):  \n",
        "  return (round(100*(100*max(abs((u2-u1)/u1))))/100)  "
      ],
      "metadata": {
        "id": "gXP07Ba7ldum"
      },
      "execution_count": null,
      "outputs": []
    },
    {
      "cell_type": "code",
      "source": [
        "train_statsY = y_train.describe().transpose()\n",
        "train_statsX = X_train.describe().transpose()\n",
        "XX = normx(X_train)\n",
        "YY = norm(y_train)\n",
        "xx = normx(X_test)\n",
        "yy = norm(y_test)"
      ],
      "metadata": {
        "id": "KXLX8j4sljhr"
      },
      "execution_count": null,
      "outputs": []
    },
    {
      "cell_type": "code",
      "source": [
        "# ANN parameters\n",
        "ac = 'relu'  # activation function\n",
        "nnno = 1024    # number of neurons\n",
        "dr_rate = 0.2  # dropout rate\n",
        "EPOCHS = 200    # number of epocs\n",
        "LR = 0.001     # learning rate"
      ],
      "metadata": {
        "id": "SwcY4avSa5jz"
      },
      "execution_count": null,
      "outputs": []
    },
    {
      "cell_type": "code",
      "source": [
        "visible = Input(shape=(110,))\n",
        "hidden1 = Dense(nnno, activation=ac)(visible)\n",
        "hidden1 = Dropout(dr_rate)(hidden1)\n",
        "hidden2 = Dense(nnno, activation=ac)(hidden1)\n",
        "hidden2 = Dropout(dr_rate)(hidden2)\n",
        "hidden3 = Dense(nnno, activation=ac)(hidden2)\n",
        "hidden3 = Dropout(dr_rate)(hidden3)\n",
        "predicted_value = Dense(100, activation=ac)(hidden3)\n",
        "modelANN = Model(inputs=visible, outputs=predicted_value)"
      ],
      "metadata": {
        "id": "htvzS0feaVKb"
      },
      "execution_count": null,
      "outputs": []
    },
    {
      "cell_type": "code",
      "source": [
        "opt = optimizers.Adamax(learning_rate=LR)\n",
        "modelANN.compile(optimizer=opt, loss=['mse'])\n",
        "history = modelANN.fit(XX, YY,epochs=EPOCHS, validation_data = (xx,yy), verbose=1)"
      ],
      "metadata": {
        "colab": {
          "base_uri": "https://localhost:8080/"
        },
        "id": "_Y-9A1CbbIdh",
        "outputId": "2a2597e9-e85a-4704-abf0-f3f25c34d05d"
      },
      "execution_count": null,
      "outputs": [
        {
          "output_type": "stream",
          "name": "stdout",
          "text": [
            "Epoch 1/200\n",
            "66/66 [==============================] - 11s 9ms/step - loss: 0.9120 - val_loss: 1.1611\n",
            "Epoch 2/200\n",
            "66/66 [==============================] - 0s 7ms/step - loss: 0.8702 - val_loss: 1.1251\n",
            "Epoch 3/200\n",
            "66/66 [==============================] - 0s 5ms/step - loss: 0.8465 - val_loss: 1.1083\n",
            "Epoch 4/200\n",
            "66/66 [==============================] - 0s 4ms/step - loss: 0.8380 - val_loss: 1.0949\n",
            "Epoch 5/200\n",
            "66/66 [==============================] - 0s 4ms/step - loss: 0.8284 - val_loss: 1.0877\n",
            "Epoch 6/200\n",
            "66/66 [==============================] - 0s 4ms/step - loss: 0.8199 - val_loss: 1.0757\n",
            "Epoch 7/200\n",
            "66/66 [==============================] - 0s 3ms/step - loss: 0.8178 - val_loss: 1.0708\n",
            "Epoch 8/200\n",
            "66/66 [==============================] - 0s 4ms/step - loss: 0.8141 - val_loss: 1.0686\n",
            "Epoch 9/200\n",
            "66/66 [==============================] - 0s 4ms/step - loss: 0.8166 - val_loss: 1.0676\n",
            "Epoch 10/200\n",
            "66/66 [==============================] - 0s 4ms/step - loss: 0.8097 - val_loss: 1.0624\n",
            "Epoch 11/200\n",
            "66/66 [==============================] - 0s 4ms/step - loss: 0.8030 - val_loss: 1.0504\n",
            "Epoch 12/200\n",
            "66/66 [==============================] - 0s 4ms/step - loss: 0.8015 - val_loss: 1.0491\n",
            "Epoch 13/200\n",
            "66/66 [==============================] - 0s 4ms/step - loss: 0.7995 - val_loss: 1.0530\n",
            "Epoch 14/200\n",
            "66/66 [==============================] - 0s 4ms/step - loss: 0.8004 - val_loss: 1.0486\n",
            "Epoch 15/200\n",
            "66/66 [==============================] - 0s 4ms/step - loss: 0.7972 - val_loss: 1.0480\n",
            "Epoch 16/200\n",
            "66/66 [==============================] - 0s 4ms/step - loss: 0.7965 - val_loss: 1.0506\n",
            "Epoch 17/200\n",
            "66/66 [==============================] - 0s 4ms/step - loss: 0.7973 - val_loss: 1.0439\n",
            "Epoch 18/200\n",
            "66/66 [==============================] - 0s 4ms/step - loss: 0.7963 - val_loss: 1.0419\n",
            "Epoch 19/200\n",
            "66/66 [==============================] - 0s 4ms/step - loss: 0.7960 - val_loss: 1.0514\n",
            "Epoch 20/200\n",
            "66/66 [==============================] - 0s 4ms/step - loss: 0.7942 - val_loss: 1.0339\n",
            "Epoch 21/200\n",
            "66/66 [==============================] - 0s 4ms/step - loss: 0.7927 - val_loss: 1.0421\n",
            "Epoch 22/200\n",
            "66/66 [==============================] - 0s 4ms/step - loss: 0.7909 - val_loss: 1.0313\n",
            "Epoch 23/200\n",
            "66/66 [==============================] - 0s 4ms/step - loss: 0.7886 - val_loss: 1.0283\n",
            "Epoch 24/200\n",
            "66/66 [==============================] - 0s 4ms/step - loss: 0.7863 - val_loss: 1.0282\n",
            "Epoch 25/200\n",
            "66/66 [==============================] - 0s 3ms/step - loss: 0.7899 - val_loss: 1.0274\n",
            "Epoch 26/200\n",
            "66/66 [==============================] - 0s 5ms/step - loss: 0.7832 - val_loss: 1.0227\n",
            "Epoch 27/200\n",
            "66/66 [==============================] - 0s 6ms/step - loss: 0.7815 - val_loss: 1.0195\n",
            "Epoch 28/200\n",
            "66/66 [==============================] - 0s 6ms/step - loss: 0.7829 - val_loss: 1.0260\n",
            "Epoch 29/200\n",
            "66/66 [==============================] - 0s 6ms/step - loss: 0.7827 - val_loss: 1.0241\n",
            "Epoch 30/200\n",
            "66/66 [==============================] - 0s 6ms/step - loss: 0.7823 - val_loss: 1.0231\n",
            "Epoch 31/200\n",
            "66/66 [==============================] - 0s 5ms/step - loss: 0.7797 - val_loss: 1.0266\n",
            "Epoch 32/200\n",
            "66/66 [==============================] - 0s 4ms/step - loss: 0.7785 - val_loss: 1.0203\n",
            "Epoch 33/200\n",
            "66/66 [==============================] - 0s 4ms/step - loss: 0.7867 - val_loss: 1.0233\n",
            "Epoch 34/200\n",
            "66/66 [==============================] - 0s 4ms/step - loss: 0.7803 - val_loss: 1.0220\n",
            "Epoch 35/200\n",
            "66/66 [==============================] - 0s 4ms/step - loss: 0.7819 - val_loss: 1.0232\n",
            "Epoch 36/200\n",
            "66/66 [==============================] - 0s 4ms/step - loss: 0.7809 - val_loss: 1.0229\n",
            "Epoch 37/200\n",
            "66/66 [==============================] - 0s 4ms/step - loss: 0.7776 - val_loss: 1.0251\n",
            "Epoch 38/200\n",
            "66/66 [==============================] - 0s 4ms/step - loss: 0.7825 - val_loss: 1.0185\n",
            "Epoch 39/200\n",
            "66/66 [==============================] - 0s 4ms/step - loss: 0.7813 - val_loss: 1.0185\n",
            "Epoch 40/200\n",
            "66/66 [==============================] - 0s 4ms/step - loss: 0.7808 - val_loss: 1.0150\n",
            "Epoch 41/200\n",
            "66/66 [==============================] - 0s 4ms/step - loss: 0.7793 - val_loss: 1.0293\n",
            "Epoch 42/200\n",
            "66/66 [==============================] - 0s 4ms/step - loss: 0.7788 - val_loss: 1.0146\n",
            "Epoch 43/200\n",
            "66/66 [==============================] - 0s 4ms/step - loss: 0.7794 - val_loss: 1.0188\n",
            "Epoch 44/200\n",
            "66/66 [==============================] - 0s 4ms/step - loss: 0.7769 - val_loss: 1.0212\n",
            "Epoch 45/200\n",
            "66/66 [==============================] - 0s 4ms/step - loss: 0.7786 - val_loss: 1.0196\n",
            "Epoch 46/200\n",
            "66/66 [==============================] - 0s 4ms/step - loss: 0.7807 - val_loss: 1.0180\n",
            "Epoch 47/200\n",
            "66/66 [==============================] - 0s 4ms/step - loss: 0.7817 - val_loss: 1.0263\n",
            "Epoch 48/200\n",
            "66/66 [==============================] - 0s 4ms/step - loss: 0.7802 - val_loss: 1.0202\n",
            "Epoch 49/200\n",
            "66/66 [==============================] - 0s 4ms/step - loss: 0.7800 - val_loss: 1.0165\n",
            "Epoch 50/200\n",
            "66/66 [==============================] - 0s 4ms/step - loss: 0.7754 - val_loss: 1.0191\n",
            "Epoch 51/200\n",
            "66/66 [==============================] - 0s 4ms/step - loss: 0.7784 - val_loss: 1.0205\n",
            "Epoch 52/200\n",
            "66/66 [==============================] - 0s 4ms/step - loss: 0.7798 - val_loss: 1.0268\n",
            "Epoch 53/200\n",
            "66/66 [==============================] - 0s 4ms/step - loss: 0.7791 - val_loss: 1.0198\n",
            "Epoch 54/200\n",
            "66/66 [==============================] - 0s 4ms/step - loss: 0.7814 - val_loss: 1.0259\n",
            "Epoch 55/200\n",
            "66/66 [==============================] - 0s 4ms/step - loss: 0.7785 - val_loss: 1.0140\n",
            "Epoch 56/200\n",
            "66/66 [==============================] - 0s 4ms/step - loss: 0.7760 - val_loss: 1.0145\n",
            "Epoch 57/200\n",
            "66/66 [==============================] - 0s 4ms/step - loss: 0.7757 - val_loss: 1.0155\n",
            "Epoch 58/200\n",
            "66/66 [==============================] - 0s 4ms/step - loss: 0.7793 - val_loss: 1.0168\n",
            "Epoch 59/200\n",
            "66/66 [==============================] - 0s 4ms/step - loss: 0.7803 - val_loss: 1.0106\n",
            "Epoch 60/200\n",
            "66/66 [==============================] - 0s 4ms/step - loss: 0.7777 - val_loss: 1.0201\n",
            "Epoch 61/200\n",
            "66/66 [==============================] - 0s 4ms/step - loss: 0.7804 - val_loss: 1.0220\n",
            "Epoch 62/200\n",
            "66/66 [==============================] - 0s 4ms/step - loss: 0.7749 - val_loss: 1.0168\n",
            "Epoch 63/200\n",
            "66/66 [==============================] - 0s 4ms/step - loss: 0.7777 - val_loss: 1.0166\n",
            "Epoch 64/200\n",
            "66/66 [==============================] - 0s 4ms/step - loss: 0.7749 - val_loss: 1.0124\n",
            "Epoch 65/200\n",
            "66/66 [==============================] - 0s 4ms/step - loss: 0.7776 - val_loss: 1.0143\n",
            "Epoch 66/200\n",
            "66/66 [==============================] - 0s 4ms/step - loss: 0.7771 - val_loss: 1.0125\n",
            "Epoch 67/200\n",
            "66/66 [==============================] - 0s 4ms/step - loss: 0.7761 - val_loss: 1.0152\n",
            "Epoch 68/200\n",
            "66/66 [==============================] - 0s 4ms/step - loss: 0.7745 - val_loss: 1.0206\n",
            "Epoch 69/200\n",
            "66/66 [==============================] - 0s 4ms/step - loss: 0.7783 - val_loss: 1.0109\n",
            "Epoch 70/200\n",
            "66/66 [==============================] - 0s 7ms/step - loss: 0.7770 - val_loss: 1.0121\n",
            "Epoch 71/200\n",
            "66/66 [==============================] - 0s 6ms/step - loss: 0.7763 - val_loss: 1.0154\n",
            "Epoch 72/200\n",
            "66/66 [==============================] - 0s 6ms/step - loss: 0.7735 - val_loss: 1.0105\n",
            "Epoch 73/200\n",
            "66/66 [==============================] - 0s 5ms/step - loss: 0.7751 - val_loss: 1.0166\n",
            "Epoch 74/200\n",
            "66/66 [==============================] - 0s 5ms/step - loss: 0.7758 - val_loss: 1.0076\n",
            "Epoch 75/200\n",
            "66/66 [==============================] - 0s 5ms/step - loss: 0.7762 - val_loss: 1.0104\n",
            "Epoch 76/200\n",
            "66/66 [==============================] - 0s 4ms/step - loss: 0.7705 - val_loss: 1.0092\n",
            "Epoch 77/200\n",
            "66/66 [==============================] - 0s 4ms/step - loss: 0.7669 - val_loss: 1.0074\n",
            "Epoch 78/200\n",
            "66/66 [==============================] - 0s 4ms/step - loss: 0.7720 - val_loss: 1.0173\n",
            "Epoch 79/200\n",
            "66/66 [==============================] - 0s 4ms/step - loss: 0.7676 - val_loss: 1.0028\n",
            "Epoch 80/200\n",
            "66/66 [==============================] - 0s 4ms/step - loss: 0.7674 - val_loss: 1.0032\n",
            "Epoch 81/200\n",
            "66/66 [==============================] - 0s 4ms/step - loss: 0.7652 - val_loss: 0.9971\n",
            "Epoch 82/200\n",
            "66/66 [==============================] - 0s 4ms/step - loss: 0.7672 - val_loss: 1.0079\n",
            "Epoch 83/200\n",
            "66/66 [==============================] - 0s 4ms/step - loss: 0.7662 - val_loss: 1.0059\n",
            "Epoch 84/200\n",
            "66/66 [==============================] - 0s 4ms/step - loss: 0.7670 - val_loss: 1.0094\n",
            "Epoch 85/200\n",
            "66/66 [==============================] - 0s 4ms/step - loss: 0.7656 - val_loss: 1.0145\n",
            "Epoch 86/200\n",
            "66/66 [==============================] - 0s 4ms/step - loss: 0.7661 - val_loss: 1.0030\n",
            "Epoch 87/200\n",
            "66/66 [==============================] - 0s 4ms/step - loss: 0.7617 - val_loss: 0.9938\n",
            "Epoch 88/200\n",
            "66/66 [==============================] - 0s 4ms/step - loss: 0.7628 - val_loss: 0.9950\n",
            "Epoch 89/200\n",
            "66/66 [==============================] - 0s 4ms/step - loss: 0.7596 - val_loss: 1.0098\n",
            "Epoch 90/200\n",
            "66/66 [==============================] - 0s 4ms/step - loss: 0.7620 - val_loss: 0.9924\n",
            "Epoch 91/200\n",
            "66/66 [==============================] - 0s 4ms/step - loss: 0.7583 - val_loss: 1.0129\n",
            "Epoch 92/200\n",
            "66/66 [==============================] - 0s 4ms/step - loss: 0.7580 - val_loss: 1.0055\n",
            "Epoch 93/200\n",
            "66/66 [==============================] - 0s 4ms/step - loss: 0.7607 - val_loss: 0.9925\n",
            "Epoch 94/200\n",
            "66/66 [==============================] - 0s 4ms/step - loss: 0.7615 - val_loss: 0.9900\n",
            "Epoch 95/200\n",
            "66/66 [==============================] - 0s 4ms/step - loss: 0.7617 - val_loss: 0.9944\n",
            "Epoch 96/200\n",
            "66/66 [==============================] - 0s 4ms/step - loss: 0.7567 - val_loss: 0.9915\n",
            "Epoch 97/200\n",
            "66/66 [==============================] - 0s 4ms/step - loss: 0.7592 - val_loss: 0.9952\n",
            "Epoch 98/200\n",
            "66/66 [==============================] - 0s 4ms/step - loss: 0.7570 - val_loss: 0.9917\n",
            "Epoch 99/200\n",
            "66/66 [==============================] - 0s 4ms/step - loss: 0.7557 - val_loss: 0.9982\n",
            "Epoch 100/200\n",
            "66/66 [==============================] - 0s 4ms/step - loss: 0.7578 - val_loss: 0.9969\n",
            "Epoch 101/200\n",
            "66/66 [==============================] - 0s 4ms/step - loss: 0.7580 - val_loss: 0.9895\n",
            "Epoch 102/200\n",
            "66/66 [==============================] - 0s 4ms/step - loss: 0.7593 - val_loss: 0.9958\n",
            "Epoch 103/200\n",
            "66/66 [==============================] - 0s 4ms/step - loss: 0.7567 - val_loss: 0.9966\n",
            "Epoch 104/200\n",
            "66/66 [==============================] - 0s 4ms/step - loss: 0.7618 - val_loss: 0.9967\n",
            "Epoch 105/200\n",
            "66/66 [==============================] - 0s 4ms/step - loss: 0.7548 - val_loss: 0.9907\n",
            "Epoch 106/200\n",
            "66/66 [==============================] - 0s 4ms/step - loss: 0.7555 - val_loss: 0.9866\n",
            "Epoch 107/200\n",
            "66/66 [==============================] - 0s 4ms/step - loss: 0.7573 - val_loss: 1.0060\n",
            "Epoch 108/200\n",
            "66/66 [==============================] - 0s 4ms/step - loss: 0.7600 - val_loss: 0.9997\n",
            "Epoch 109/200\n",
            "66/66 [==============================] - 0s 4ms/step - loss: 0.7554 - val_loss: 0.9891\n",
            "Epoch 110/200\n",
            "66/66 [==============================] - 0s 4ms/step - loss: 0.7577 - val_loss: 0.9898\n",
            "Epoch 111/200\n",
            "66/66 [==============================] - 0s 4ms/step - loss: 0.7542 - val_loss: 0.9916\n",
            "Epoch 112/200\n",
            "66/66 [==============================] - 0s 4ms/step - loss: 0.7552 - val_loss: 1.0087\n",
            "Epoch 113/200\n",
            "66/66 [==============================] - 0s 5ms/step - loss: 0.7548 - val_loss: 0.9873\n",
            "Epoch 114/200\n",
            "66/66 [==============================] - 0s 6ms/step - loss: 0.7532 - val_loss: 0.9899\n",
            "Epoch 115/200\n",
            "66/66 [==============================] - 0s 5ms/step - loss: 0.7576 - val_loss: 0.9915\n",
            "Epoch 116/200\n",
            "66/66 [==============================] - 0s 6ms/step - loss: 0.7537 - val_loss: 0.9888\n",
            "Epoch 117/200\n",
            "66/66 [==============================] - 0s 6ms/step - loss: 0.7552 - val_loss: 0.9954\n",
            "Epoch 118/200\n",
            "66/66 [==============================] - 0s 6ms/step - loss: 0.7496 - val_loss: 0.9946\n",
            "Epoch 119/200\n",
            "66/66 [==============================] - 0s 5ms/step - loss: 0.7562 - val_loss: 1.0034\n",
            "Epoch 120/200\n",
            "66/66 [==============================] - 0s 4ms/step - loss: 0.7557 - val_loss: 0.9887\n",
            "Epoch 121/200\n",
            "66/66 [==============================] - 0s 4ms/step - loss: 0.7501 - val_loss: 0.9837\n",
            "Epoch 122/200\n",
            "66/66 [==============================] - 0s 4ms/step - loss: 0.7511 - val_loss: 0.9773\n",
            "Epoch 123/200\n",
            "66/66 [==============================] - 0s 4ms/step - loss: 0.7483 - val_loss: 0.9749\n",
            "Epoch 124/200\n",
            "66/66 [==============================] - 0s 4ms/step - loss: 0.7532 - val_loss: 1.0103\n",
            "Epoch 125/200\n",
            "66/66 [==============================] - 0s 4ms/step - loss: 0.7526 - val_loss: 0.9857\n",
            "Epoch 126/200\n",
            "66/66 [==============================] - 0s 4ms/step - loss: 0.7513 - val_loss: 0.9843\n",
            "Epoch 127/200\n",
            "66/66 [==============================] - 0s 4ms/step - loss: 0.7516 - val_loss: 0.9781\n",
            "Epoch 128/200\n",
            "66/66 [==============================] - 0s 4ms/step - loss: 0.7558 - val_loss: 0.9947\n",
            "Epoch 129/200\n",
            "66/66 [==============================] - 0s 4ms/step - loss: 0.7539 - val_loss: 0.9922\n",
            "Epoch 130/200\n",
            "66/66 [==============================] - 0s 4ms/step - loss: 0.7510 - val_loss: 0.9874\n",
            "Epoch 131/200\n",
            "66/66 [==============================] - 0s 4ms/step - loss: 0.7514 - val_loss: 0.9860\n",
            "Epoch 132/200\n",
            "66/66 [==============================] - 0s 4ms/step - loss: 0.7500 - val_loss: 0.9767\n",
            "Epoch 133/200\n",
            "66/66 [==============================] - 0s 4ms/step - loss: 0.7466 - val_loss: 0.9821\n",
            "Epoch 134/200\n",
            "66/66 [==============================] - 0s 4ms/step - loss: 0.7523 - val_loss: 0.9834\n",
            "Epoch 135/200\n",
            "66/66 [==============================] - 0s 4ms/step - loss: 0.7488 - val_loss: 0.9861\n",
            "Epoch 136/200\n",
            "66/66 [==============================] - 0s 4ms/step - loss: 0.7565 - val_loss: 0.9854\n",
            "Epoch 137/200\n",
            "66/66 [==============================] - 0s 4ms/step - loss: 0.7512 - val_loss: 0.9820\n",
            "Epoch 138/200\n",
            "66/66 [==============================] - 0s 4ms/step - loss: 0.7485 - val_loss: 0.9884\n",
            "Epoch 139/200\n",
            "66/66 [==============================] - 0s 4ms/step - loss: 0.7525 - val_loss: 0.9901\n",
            "Epoch 140/200\n",
            "66/66 [==============================] - 0s 4ms/step - loss: 0.7512 - val_loss: 1.0169\n",
            "Epoch 141/200\n",
            "66/66 [==============================] - 0s 4ms/step - loss: 0.7512 - val_loss: 0.9894\n",
            "Epoch 142/200\n",
            "66/66 [==============================] - 0s 4ms/step - loss: 0.7483 - val_loss: 0.9876\n",
            "Epoch 143/200\n",
            "66/66 [==============================] - 0s 4ms/step - loss: 0.7500 - val_loss: 0.9935\n",
            "Epoch 144/200\n",
            "66/66 [==============================] - 0s 4ms/step - loss: 0.7507 - val_loss: 0.9835\n",
            "Epoch 145/200\n",
            "66/66 [==============================] - 0s 4ms/step - loss: 0.7457 - val_loss: 0.9749\n",
            "Epoch 146/200\n",
            "66/66 [==============================] - 0s 4ms/step - loss: 0.7506 - val_loss: 0.9826\n",
            "Epoch 147/200\n",
            "66/66 [==============================] - 0s 4ms/step - loss: 0.7610 - val_loss: 0.9893\n",
            "Epoch 148/200\n",
            "66/66 [==============================] - 0s 4ms/step - loss: 0.7493 - val_loss: 0.9867\n",
            "Epoch 149/200\n",
            "66/66 [==============================] - 0s 4ms/step - loss: 0.7467 - val_loss: 1.0014\n",
            "Epoch 150/200\n",
            "66/66 [==============================] - 0s 4ms/step - loss: 0.7541 - val_loss: 0.9903\n",
            "Epoch 151/200\n",
            "66/66 [==============================] - 0s 4ms/step - loss: 0.7490 - val_loss: 0.9858\n",
            "Epoch 152/200\n",
            "66/66 [==============================] - 0s 4ms/step - loss: 0.7494 - val_loss: 0.9762\n",
            "Epoch 153/200\n",
            "66/66 [==============================] - 0s 4ms/step - loss: 0.7486 - val_loss: 0.9839\n",
            "Epoch 154/200\n",
            "66/66 [==============================] - 0s 4ms/step - loss: 0.7444 - val_loss: 0.9943\n",
            "Epoch 155/200\n",
            "66/66 [==============================] - 0s 4ms/step - loss: 0.7471 - val_loss: 0.9937\n",
            "Epoch 156/200\n",
            "66/66 [==============================] - 0s 4ms/step - loss: 0.7494 - val_loss: 0.9807\n",
            "Epoch 157/200\n",
            "66/66 [==============================] - 0s 5ms/step - loss: 0.7483 - val_loss: 0.9742\n",
            "Epoch 158/200\n",
            "66/66 [==============================] - 0s 7ms/step - loss: 0.7446 - val_loss: 0.9870\n",
            "Epoch 159/200\n",
            "66/66 [==============================] - 0s 6ms/step - loss: 0.7450 - val_loss: 0.9782\n",
            "Epoch 160/200\n",
            "66/66 [==============================] - 0s 6ms/step - loss: 0.7530 - val_loss: 0.9913\n",
            "Epoch 161/200\n",
            "66/66 [==============================] - 0s 5ms/step - loss: 0.7469 - val_loss: 0.9772\n",
            "Epoch 162/200\n",
            "66/66 [==============================] - 0s 6ms/step - loss: 0.7452 - val_loss: 0.9696\n",
            "Epoch 163/200\n",
            "66/66 [==============================] - 0s 4ms/step - loss: 0.7437 - val_loss: 0.9872\n",
            "Epoch 164/200\n",
            "66/66 [==============================] - 0s 4ms/step - loss: 0.7477 - val_loss: 0.9891\n",
            "Epoch 165/200\n",
            "66/66 [==============================] - 0s 4ms/step - loss: 0.7461 - val_loss: 0.9850\n",
            "Epoch 166/200\n",
            "66/66 [==============================] - 0s 4ms/step - loss: 0.7457 - val_loss: 0.9919\n",
            "Epoch 167/200\n",
            "66/66 [==============================] - 0s 4ms/step - loss: 0.7457 - val_loss: 0.9800\n",
            "Epoch 168/200\n",
            "66/66 [==============================] - 0s 4ms/step - loss: 0.7512 - val_loss: 0.9757\n",
            "Epoch 169/200\n",
            "66/66 [==============================] - 0s 4ms/step - loss: 0.7450 - val_loss: 0.9822\n",
            "Epoch 170/200\n",
            "66/66 [==============================] - 0s 4ms/step - loss: 0.7529 - val_loss: 0.9839\n",
            "Epoch 171/200\n",
            "66/66 [==============================] - 0s 4ms/step - loss: 0.7433 - val_loss: 0.9794\n",
            "Epoch 172/200\n",
            "66/66 [==============================] - 0s 4ms/step - loss: 0.7508 - val_loss: 0.9915\n",
            "Epoch 173/200\n",
            "66/66 [==============================] - 0s 4ms/step - loss: 0.7452 - val_loss: 0.9926\n",
            "Epoch 174/200\n",
            "66/66 [==============================] - 0s 4ms/step - loss: 0.7440 - val_loss: 0.9730\n",
            "Epoch 175/200\n",
            "66/66 [==============================] - 0s 4ms/step - loss: 0.7414 - val_loss: 0.9842\n",
            "Epoch 176/200\n",
            "66/66 [==============================] - 0s 4ms/step - loss: 0.7467 - val_loss: 0.9796\n",
            "Epoch 177/200\n",
            "66/66 [==============================] - 0s 4ms/step - loss: 0.7489 - val_loss: 0.9830\n",
            "Epoch 178/200\n",
            "66/66 [==============================] - 0s 4ms/step - loss: 0.7417 - val_loss: 0.9852\n",
            "Epoch 179/200\n",
            "66/66 [==============================] - 0s 4ms/step - loss: 0.7438 - val_loss: 0.9906\n",
            "Epoch 180/200\n",
            "66/66 [==============================] - 0s 4ms/step - loss: 0.7442 - val_loss: 0.9813\n",
            "Epoch 181/200\n",
            "66/66 [==============================] - 0s 4ms/step - loss: 0.7470 - val_loss: 0.9821\n",
            "Epoch 182/200\n",
            "66/66 [==============================] - 0s 4ms/step - loss: 0.7463 - val_loss: 0.9793\n",
            "Epoch 183/200\n",
            "66/66 [==============================] - 0s 4ms/step - loss: 0.7509 - val_loss: 0.9912\n",
            "Epoch 184/200\n",
            "66/66 [==============================] - 0s 4ms/step - loss: 0.7497 - val_loss: 0.9901\n",
            "Epoch 185/200\n",
            "66/66 [==============================] - 0s 4ms/step - loss: 0.7455 - val_loss: 0.9841\n",
            "Epoch 186/200\n",
            "66/66 [==============================] - 0s 4ms/step - loss: 0.7404 - val_loss: 1.0125\n",
            "Epoch 187/200\n",
            "66/66 [==============================] - 0s 4ms/step - loss: 0.7423 - val_loss: 0.9806\n",
            "Epoch 188/200\n",
            "66/66 [==============================] - 0s 4ms/step - loss: 0.7516 - val_loss: 0.9844\n",
            "Epoch 189/200\n",
            "66/66 [==============================] - 0s 4ms/step - loss: 0.7446 - val_loss: 0.9687\n",
            "Epoch 190/200\n",
            "66/66 [==============================] - 0s 4ms/step - loss: 0.7432 - val_loss: 0.9740\n",
            "Epoch 191/200\n",
            "66/66 [==============================] - 0s 4ms/step - loss: 0.7424 - val_loss: 0.9797\n",
            "Epoch 192/200\n",
            "66/66 [==============================] - 0s 4ms/step - loss: 0.7440 - val_loss: 0.9793\n",
            "Epoch 193/200\n",
            "66/66 [==============================] - 0s 4ms/step - loss: 0.7406 - val_loss: 0.9956\n",
            "Epoch 194/200\n",
            "66/66 [==============================] - 0s 4ms/step - loss: 0.7399 - val_loss: 0.9707\n",
            "Epoch 195/200\n",
            "66/66 [==============================] - 0s 4ms/step - loss: 0.7522 - val_loss: 0.9898\n",
            "Epoch 196/200\n",
            "66/66 [==============================] - 0s 4ms/step - loss: 0.7447 - val_loss: 0.9861\n",
            "Epoch 197/200\n",
            "66/66 [==============================] - 0s 4ms/step - loss: 0.7397 - val_loss: 0.9741\n",
            "Epoch 198/200\n",
            "66/66 [==============================] - 0s 4ms/step - loss: 0.7400 - val_loss: 0.9858\n",
            "Epoch 199/200\n",
            "66/66 [==============================] - 0s 4ms/step - loss: 0.7381 - val_loss: 0.9912\n",
            "Epoch 200/200\n",
            "66/66 [==============================] - 0s 4ms/step - loss: 0.7462 - val_loss: 0.9828\n"
          ]
        }
      ]
    },
    {
      "cell_type": "code",
      "source": [
        "plt.plot(history.history['loss'])\n",
        "plt.plot(history.history['val_loss'])\n",
        "plt.ylabel('loss')\n",
        "plt.xlabel('epoch')\n",
        "plt.legend(['train', 'test'], loc='upper right')\n",
        "plt.show()"
      ],
      "metadata": {
        "colab": {
          "base_uri": "https://localhost:8080/",
          "height": 449
        },
        "id": "J_OnvuHTbpR2",
        "outputId": "d8c59973-f589-4803-d438-bdf9b03944ce"
      },
      "execution_count": null,
      "outputs": [
        {
          "output_type": "display_data",
          "data": {
            "text/plain": [
              "<Figure size 640x480 with 1 Axes>"
            ],
            "image/png": "[encoded data removed]"
          },
          "metadata": {}
        }
      ]
    },
    {
      "cell_type": "code",
      "source": [
        "test_predictions = modelANN.predict(xx)"
      ],
      "metadata": {
        "colab": {
          "base_uri": "https://localhost:8080/"
        },
        "id": "Yw0gF45Eb5iL",
        "outputId": "4c981997-2ecb-46bd-a668-82a8ac406934"
      },
      "execution_count": null,
      "outputs": [
        {
          "output_type": "stream",
          "name": "stdout",
          "text": [
            "8/8 [==============================] - 0s 2ms/step\n"
          ]
        }
      ]
    },
    {
      "cell_type": "code",
      "source": [
        "tp = pd.DataFrame(test_predictions)\n",
        "tp2 = denorm(tp)"
      ],
      "metadata": {
        "id": "ExwVujDqb-IZ"
      },
      "execution_count": null,
      "outputs": []
    },
    {
      "cell_type": "code",
      "source": [
        "# Plot some results: truth vs prediction\n",
        "ntest1 = 0 \n",
        "ntest2 = 100 \n",
        "ntest3 = 20\n",
        "ntest4 = 40 \n",
        "fig, axs = plt.subplots(2, 2)\n",
        "axs[0, 0].plot(tp2.iloc[ntest1,:])\n",
        "axs[0, 0].plot(y_test.iloc[ntest1,:])\n",
        "axs[0, 1].plot(tp2.iloc[ntest2,:])\n",
        "axs[0, 1].plot(y_test.iloc[ntest2,:])\n",
        "axs[1, 0].plot(tp2.iloc[ntest3,:])\n",
        "axs[1, 0].plot(y_test.iloc[ntest3,:])\n",
        "axs[1, 1].plot(tp2.iloc[ntest4,:])\n",
        "axs[1, 1].plot(y_test.iloc[ntest4,:])\n"
      ],
      "metadata": {
        "colab": {
          "base_uri": "https://localhost:8080/",
          "height": 449
        },
        "id": "8KhCD0IALQQl",
        "outputId": "30a39b7d-a955-49f4-ea84-12ac80b71154"
      },
      "execution_count": null,
      "outputs": [
        {
          "output_type": "execute_result",
          "data": {
            "text/plain": [
              "[<matplotlib.lines.Line2D at 0x7fd7606fbf70>]"
            ]
          },
          "metadata": {},
          "execution_count": 14
        },
        {
          "output_type": "display_data",
          "data": {
            "text/plain": [
              "<Figure size 640x480 with 4 Axes>"
            ],
            "image/png": "[encoded data removed]"
          },
          "metadata": {}
        }
      ]
    },
    {
      "cell_type": "code",
      "source": [
        "errors = np.zeros(100)\n",
        "for i in np.arange(100):\n",
        "  errors[i]=mean_squared_error(tp2.iloc[i,:],y_test.iloc[ntest1,:])/y_test.iloc[ntest1,:].max()\n",
        "errors.mean()  "
      ],
      "metadata": {
        "colab": {
          "base_uri": "https://localhost:8080/"
        },
        "id": "8uK5ac1JMIrC",
        "outputId": "1cfde8e5-1e5c-461b-d5f8-3daba9ae4c21"
      },
      "execution_count": null,
      "outputs": [
        {
          "output_type": "execute_result",
          "data": {
            "text/plain": [
              "13.397086784031986"
            ]
          },
          "metadata": {},
          "execution_count": 15
        }
      ]
    },
    {
      "cell_type": "code",
      "source": [
        "from google.colab import files\n",
        "X_test.to_csv('FCNN_Xtest.csv')\n",
        "y_test.to_csv('FCNN_ytest.csv')\n",
        "tp2.to_csv('FCNN_ypred.csv')\n",
        "files.download('FCNN_Xtest.csv')\n",
        "files.download('FCNN_ytest.csv')\n",
        "files.download('FCNN_ypred.csv')"
      ],
      "metadata": {
        "id": "Lt5chk_ivv9e",
        "colab": {
          "base_uri": "https://localhost:8080/",
          "height": 17
        },
        "outputId": "b3355845-1d5f-43e1-b416-26c5deabac6d"
      },
      "execution_count": null,
      "outputs": [
        {
          "output_type": "display_data",
          "data": {
            "text/plain": [
              "<IPython.core.display.Javascript object>"
            ],
            "application/javascript": [
              "\n",
              "    async function download(id, filename, size) {\n",
              "      if (!google.colab.kernel.accessAllowed) {\n",
              "        return;\n",
              "      }\n",
              "      const div = document.createElement('div');\n",
              "      const label = document.createElement('label');\n",
              "      label.textContent = `Downloading \"${filename}\": `;\n",
              "      div.appendChild(label);\n",
              "      const progress = document.createElement('progress');\n",
              "      progress.max = size;\n",
              "      div.appendChild(progress);\n",
              "      document.body.appendChild(div);\n",
              "\n",
              "      const buffers = [];\n",
              "      let downloaded = 0;\n",
              "\n",
              "      const channel = await google.colab.kernel.comms.open(id);\n",
              "      // Send a message to notify the kernel that we're ready.\n",
              "      channel.send({})\n",
              "\n",
              "      for await (const message of channel.messages) {\n",
              "        // Send a message to notify the kernel that we're ready.\n",
              "        channel.send({})\n",
              "        if (message.buffers) {\n",
              "          for (const buffer of message.buffers) {\n",
              "            buffers.push(buffer);\n",
              "            downloaded += buffer.byteLength;\n",
              "            progress.value = downloaded;\n",
              "          }\n",
              "        }\n",
              "      }\n",
              "      const blob = new Blob(buffers, {type: 'application/binary'});\n",
              "      const a = document.createElement('a');\n",
              "      a.href = window.URL.createObjectURL(blob);\n",
              "      a.download = filename;\n",
              "      div.appendChild(a);\n",
              "      a.click();\n",
              "      div.remove();\n",
              "    }\n",
              "  "
            ]
          },
          "metadata": {}
        },
        {
          "output_type": "display_data",
          "data": {
            "text/plain": [
              "<IPython.core.display.Javascript object>"
            ],
            "application/javascript": [
              "download(\"download_bbe7afee-55e9-4c34-83da-7094a5a6c619\", \"FCNN_Xtest.csv\", 178197)"
            ]
          },
          "metadata": {}
        },
        {
          "output_type": "display_data",
          "data": {
            "text/plain": [
              "<IPython.core.display.Javascript object>"
            ],
            "application/javascript": [
              "\n",
              "    async function download(id, filename, size) {\n",
              "      if (!google.colab.kernel.accessAllowed) {\n",
              "        return;\n",
              "      }\n",
              "      const div = document.createElement('div');\n",
              "      const label = document.createElement('label');\n",
              "      label.textContent = `Downloading \"${filename}\": `;\n",
              "      div.appendChild(label);\n",
              "      const progress = document.createElement('progress');\n",
              "      progress.max = size;\n",
              "      div.appendChild(progress);\n",
              "      document.body.appendChild(div);\n",
              "\n",
              "      const buffers = [];\n",
              "      let downloaded = 0;\n",
              "\n",
              "      const channel = await google.colab.kernel.comms.open(id);\n",
              "      // Send a message to notify the kernel that we're ready.\n",
              "      channel.send({})\n",
              "\n",
              "      for await (const message of channel.messages) {\n",
              "        // Send a message to notify the kernel that we're ready.\n",
              "        channel.send({})\n",
              "        if (message.buffers) {\n",
              "          for (const buffer of message.buffers) {\n",
              "            buffers.push(buffer);\n",
              "            downloaded += buffer.byteLength;\n",
              "            progress.value = downloaded;\n",
              "          }\n",
              "        }\n",
              "      }\n",
              "      const blob = new Blob(buffers, {type: 'application/binary'});\n",
              "      const a = document.createElement('a');\n",
              "      a.href = window.URL.createObjectURL(blob);\n",
              "      a.download = filename;\n",
              "      div.appendChild(a);\n",
              "      a.click();\n",
              "      div.remove();\n",
              "    }\n",
              "  "
            ]
          },
          "metadata": {}
        },
        {
          "output_type": "display_data",
          "data": {
            "text/plain": [
              "<IPython.core.display.Javascript object>"
            ],
            "application/javascript": [
              "download(\"download_b7f2bc39-8a7d-44cd-8cd4-d4fa509cee61\", \"FCNN_ytest.csv\", 211981)"
            ]
          },
          "metadata": {}
        },
        {
          "output_type": "display_data",
          "data": {
            "text/plain": [
              "<IPython.core.display.Javascript object>"
            ],
            "application/javascript": [
              "\n",
              "    async function download(id, filename, size) {\n",
              "      if (!google.colab.kernel.accessAllowed) {\n",
              "        return;\n",
              "      }\n",
              "      const div = document.createElement('div');\n",
              "      const label = document.createElement('label');\n",
              "      label.textContent = `Downloading \"${filename}\": `;\n",
              "      div.appendChild(label);\n",
              "      const progress = document.createElement('progress');\n",
              "      progress.max = size;\n",
              "      div.appendChild(progress);\n",
              "      document.body.appendChild(div);\n",
              "\n",
              "      const buffers = [];\n",
              "      let downloaded = 0;\n",
              "\n",
              "      const channel = await google.colab.kernel.comms.open(id);\n",
              "      // Send a message to notify the kernel that we're ready.\n",
              "      channel.send({})\n",
              "\n",
              "      for await (const message of channel.messages) {\n",
              "        // Send a message to notify the kernel that we're ready.\n",
              "        channel.send({})\n",
              "        if (message.buffers) {\n",
              "          for (const buffer of message.buffers) {\n",
              "            buffers.push(buffer);\n",
              "            downloaded += buffer.byteLength;\n",
              "            progress.value = downloaded;\n",
              "          }\n",
              "        }\n",
              "      }\n",
              "      const blob = new Blob(buffers, {type: 'application/binary'});\n",
              "      const a = document.createElement('a');\n",
              "      a.href = window.URL.createObjectURL(blob);\n",
              "      a.download = filename;\n",
              "      div.appendChild(a);\n",
              "      a.click();\n",
              "      div.remove();\n",
              "    }\n",
              "  "
            ]
          },
          "metadata": {}
        },
        {
          "output_type": "display_data",
          "data": {
            "text/plain": [
              "<IPython.core.display.Javascript object>"
            ],
            "application/javascript": [
              "download(\"download_fb468a98-59a3-4bc7-8c33-f7643bdc496b\", \"FCNN_ypred.csv\", 445593)"
            ]
          },
          "metadata": {}
        }
      ]
    },
    {
      "cell_type": "code",
      "source": [],
      "metadata": {
        "id": "fkMRqm36rHWQ"
      },
      "execution_count": null,
      "outputs": []
    }
  ]
}
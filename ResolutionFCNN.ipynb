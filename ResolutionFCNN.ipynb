{
  "nbformat": 4,
  "nbformat_minor": 0,
  "metadata": {
    "colab": {
      "provenance": [],
      "authorship_tag": "ABX9TyOhbOPgSyYx/7wLYhEqC4Na",
      "include_colab_link": true
    },
    "kernelspec": {
      "name": "python3",
      "display_name": "Python 3"
    },
    "language_info": {
      "name": "python"
    },
    "accelerator": "GPU",
    "gpuClass": "standard"
  },
  "cells": [
    {
      "cell_type": "markdown",
      "metadata": {
        "id": "view-in-github",
        "colab_type": "text"
      },
      "source": [
        "<a href=\"https://colab.research.google.com/github/simsekergun/Resolution/blob/main/ResolutionFCNN.ipynb\" target=\"_parent\"><img src=\"https://colab.research.google.com/assets/colab-badge.svg\" alt=\"Open In Colab\"/></a>"
      ]
    },
    {
      "cell_type": "code",
      "execution_count": 1,
      "metadata": {
        "id": "KVJosSnoZwhA"
      },
      "outputs": [],
      "source": [
        "import numpy as np\n",
        "import matplotlib.pyplot as plt\n",
        "import pandas as pd\n",
        "from sklearn import metrics \n",
        "from sklearn.model_selection import train_test_split\n",
        "from sklearn.metrics import mean_squared_error"
      ]
    },
    {
      "cell_type": "code",
      "source": [
        "# Multilayer Perceptron\n",
        "from keras.models import Model\n",
        "from keras.layers import Input\n",
        "from keras.layers import Dense\n",
        "from keras.layers import Dropout\n",
        "from keras.layers import concatenate\n",
        "from tensorflow.keras import optimizers\n",
        "from tensorflow.keras import backend\n",
        "from keras.layers import LeakyReLU, PReLU\n",
        "from tensorflow.keras.metrics import categorical_accuracy"
      ],
      "metadata": {
        "id": "XPCXBSsKZ-Nl"
      },
      "execution_count": 2,
      "outputs": []
    },
    {
      "cell_type": "code",
      "source": [
        "df_m = pd.read_csv('https://raw.githubusercontent.com/simsekergun/Resolution/main/Es_measured.csv',header=None)\n",
        "df_r = pd.read_csv('https://raw.githubusercontent.com/simsekergun/Resolution/main/Es_real.csv',header=None)\n",
        "df_m.shape, df_r.shape"
      ],
      "metadata": {
        "colab": {
          "base_uri": "https://localhost:8080/"
        },
        "id": "5fCpixdEZytf",
        "outputId": "c2bba990-56ea-4d05-b924-e5ea3f9cc2e3"
      },
      "execution_count": 3,
      "outputs": [
        {
          "output_type": "execute_result",
          "data": {
            "text/plain": [
              "((2330, 110), (2330, 100))"
            ]
          },
          "metadata": {},
          "execution_count": 3
        }
      ]
    },
    {
      "cell_type": "code",
      "source": [
        "X = df_m\n",
        "y = df_r"
      ],
      "metadata": {
        "id": "2-P1miHCaRDK"
      },
      "execution_count": 4,
      "outputs": []
    },
    {
      "cell_type": "code",
      "source": [
        "X_train, X_test, y_train, y_test = train_test_split(X, y, test_size=0.1, random_state=5)\n",
        "X_train.shape, X_test.shape, y_train.shape"
      ],
      "metadata": {
        "colab": {
          "base_uri": "https://localhost:8080/"
        },
        "id": "T9-Daf1fZ7yO",
        "outputId": "fac35523-735c-4b0e-9583-ef269e6c0082"
      },
      "execution_count": 5,
      "outputs": [
        {
          "output_type": "execute_result",
          "data": {
            "text/plain": [
              "((2097, 110), (233, 110), (2097, 100))"
            ]
          },
          "metadata": {},
          "execution_count": 5
        }
      ]
    },
    {
      "cell_type": "code",
      "source": [
        "# Let us some functions to normalize, de-normalize, and to calculate errors\n",
        "def normx(x):\n",
        "  return (x - train_statsX['mean']) / train_statsX['std']\n",
        "def norm(y):\n",
        "  return (y - train_statsY['mean']) / train_statsY['std']\n",
        "def denorm(y):\n",
        "  return (y* train_statsY['std'] + train_statsY['mean'])  \n",
        "def mean_aep(u1,u2):  \n",
        "  return (round(100*(100*sum(abs((u2-u1)/u1))/len(u1)))/100)\n",
        "def max_aep(u1,u2):  \n",
        "  return (round(100*(100*max(abs((u2-u1)/u1))))/100)  "
      ],
      "metadata": {
        "id": "gXP07Ba7ldum"
      },
      "execution_count": 6,
      "outputs": []
    },
    {
      "cell_type": "code",
      "source": [
        "train_statsY = y_train.describe().transpose()\n",
        "train_statsX = X_train.describe().transpose()\n",
        "XX = normx(X_train)\n",
        "YY = norm(y_train)\n",
        "xx = normx(X_test)\n",
        "yy = norm(y_test)"
      ],
      "metadata": {
        "id": "KXLX8j4sljhr"
      },
      "execution_count": 7,
      "outputs": []
    },
    {
      "cell_type": "code",
      "source": [
        "# ANN parameters\n",
        "ac = 'relu'  # activation function\n",
        "nnno = 1024    # number of neurons\n",
        "dr_rate = 0.2  # dropout rate\n",
        "EPOCHS = 200    # number of epocs\n",
        "LR = 0.001     # learning rate"
      ],
      "metadata": {
        "id": "SwcY4avSa5jz"
      },
      "execution_count": 8,
      "outputs": []
    },
    {
      "cell_type": "code",
      "source": [
        "visible = Input(shape=(110,))\n",
        "hidden1 = Dense(nnno, activation=ac)(visible)\n",
        "hidden1 = Dropout(dr_rate)(hidden1)\n",
        "hidden2 = Dense(nnno, activation=ac)(hidden1)\n",
        "hidden2 = Dropout(dr_rate)(hidden2)\n",
        "hidden3 = Dense(nnno, activation=ac)(hidden2)\n",
        "hidden3 = Dropout(dr_rate)(hidden3)\n",
        "predicted_value = Dense(100, activation=ac)(hidden3)\n",
        "modelANN = Model(inputs=visible, outputs=predicted_value)"
      ],
      "metadata": {
        "id": "htvzS0feaVKb"
      },
      "execution_count": 9,
      "outputs": []
    },
    {
      "cell_type": "code",
      "source": [
        "opt = optimizers.Adamax(learning_rate=LR)\n",
        "modelANN.compile(optimizer=opt, loss=['mse'])\n",
        "history = modelANN.fit(XX, YY,epochs=EPOCHS, validation_data = (xx,yy), verbose=1)"
      ],
      "metadata": {
        "colab": {
          "base_uri": "https://localhost:8080/"
        },
        "id": "_Y-9A1CbbIdh",
        "outputId": "bd96283a-9741-4a7c-d8b4-12fe8a595b8e"
      },
      "execution_count": 10,
      "outputs": [
        {
          "output_type": "stream",
          "name": "stdout",
          "text": [
            "Epoch 1/200\n",
            "66/66 [==============================] - 11s 9ms/step - loss: 0.9027 - val_loss: 1.1351\n",
            "Epoch 2/200\n",
            "66/66 [==============================] - 0s 4ms/step - loss: 0.8607 - val_loss: 1.1226\n",
            "Epoch 3/200\n",
            "66/66 [==============================] - 0s 4ms/step - loss: 0.8497 - val_loss: 1.1086\n",
            "Epoch 4/200\n",
            "66/66 [==============================] - 0s 4ms/step - loss: 0.8386 - val_loss: 1.1035\n",
            "Epoch 5/200\n",
            "66/66 [==============================] - 0s 4ms/step - loss: 0.8266 - val_loss: 1.0747\n",
            "Epoch 6/200\n",
            "66/66 [==============================] - 0s 4ms/step - loss: 0.8145 - val_loss: 1.0657\n",
            "Epoch 7/200\n",
            "66/66 [==============================] - 0s 4ms/step - loss: 0.8115 - val_loss: 1.0713\n",
            "Epoch 8/200\n",
            "66/66 [==============================] - 0s 4ms/step - loss: 0.8068 - val_loss: 1.0695\n",
            "Epoch 9/200\n",
            "66/66 [==============================] - 0s 4ms/step - loss: 0.8093 - val_loss: 1.0596\n",
            "Epoch 10/200\n",
            "66/66 [==============================] - 0s 4ms/step - loss: 0.8043 - val_loss: 1.0591\n",
            "Epoch 11/200\n",
            "66/66 [==============================] - 0s 4ms/step - loss: 0.8037 - val_loss: 1.0528\n",
            "Epoch 12/200\n",
            "66/66 [==============================] - 0s 4ms/step - loss: 0.8023 - val_loss: 1.0543\n",
            "Epoch 13/200\n",
            "66/66 [==============================] - 0s 4ms/step - loss: 0.7986 - val_loss: 1.0599\n",
            "Epoch 14/200\n",
            "66/66 [==============================] - 0s 4ms/step - loss: 0.8014 - val_loss: 1.0492\n",
            "Epoch 15/200\n",
            "66/66 [==============================] - 0s 4ms/step - loss: 0.7984 - val_loss: 1.0523\n",
            "Epoch 16/200\n",
            "66/66 [==============================] - 0s 4ms/step - loss: 0.7971 - val_loss: 1.0466\n",
            "Epoch 17/200\n",
            "66/66 [==============================] - 0s 4ms/step - loss: 0.7966 - val_loss: 1.0565\n",
            "Epoch 18/200\n",
            "66/66 [==============================] - 0s 5ms/step - loss: 0.7979 - val_loss: 1.0556\n",
            "Epoch 19/200\n",
            "66/66 [==============================] - 0s 4ms/step - loss: 0.7953 - val_loss: 1.0449\n",
            "Epoch 20/200\n",
            "66/66 [==============================] - 0s 4ms/step - loss: 0.7962 - val_loss: 1.0497\n",
            "Epoch 21/200\n",
            "66/66 [==============================] - 0s 4ms/step - loss: 0.7953 - val_loss: 1.0463\n",
            "Epoch 22/200\n",
            "66/66 [==============================] - 0s 4ms/step - loss: 0.7908 - val_loss: 1.0363\n",
            "Epoch 23/200\n",
            "66/66 [==============================] - 0s 4ms/step - loss: 0.7873 - val_loss: 1.0371\n",
            "Epoch 24/200\n",
            "66/66 [==============================] - 0s 4ms/step - loss: 0.7864 - val_loss: 1.0414\n",
            "Epoch 25/200\n",
            "66/66 [==============================] - 0s 4ms/step - loss: 0.7907 - val_loss: 1.0338\n",
            "Epoch 26/200\n",
            "66/66 [==============================] - 0s 4ms/step - loss: 0.7868 - val_loss: 1.0334\n",
            "Epoch 27/200\n",
            "66/66 [==============================] - 0s 4ms/step - loss: 0.7890 - val_loss: 1.0461\n",
            "Epoch 28/200\n",
            "66/66 [==============================] - 0s 4ms/step - loss: 0.7843 - val_loss: 1.0333\n",
            "Epoch 29/200\n",
            "66/66 [==============================] - 0s 6ms/step - loss: 0.7829 - val_loss: 1.0383\n",
            "Epoch 30/200\n",
            "66/66 [==============================] - 0s 7ms/step - loss: 0.7838 - val_loss: 1.0361\n",
            "Epoch 31/200\n",
            "66/66 [==============================] - 0s 7ms/step - loss: 0.7845 - val_loss: 1.0330\n",
            "Epoch 32/200\n",
            "66/66 [==============================] - 0s 6ms/step - loss: 0.7842 - val_loss: 1.0342\n",
            "Epoch 33/200\n",
            "66/66 [==============================] - 0s 6ms/step - loss: 0.7859 - val_loss: 1.0273\n",
            "Epoch 34/200\n",
            "66/66 [==============================] - 0s 6ms/step - loss: 0.7818 - val_loss: 1.0280\n",
            "Epoch 35/200\n",
            "66/66 [==============================] - 0s 4ms/step - loss: 0.7843 - val_loss: 1.0299\n",
            "Epoch 36/200\n",
            "66/66 [==============================] - 0s 4ms/step - loss: 0.7828 - val_loss: 1.0332\n",
            "Epoch 37/200\n",
            "66/66 [==============================] - 0s 4ms/step - loss: 0.7837 - val_loss: 1.0394\n",
            "Epoch 38/200\n",
            "66/66 [==============================] - 0s 4ms/step - loss: 0.7833 - val_loss: 1.0300\n",
            "Epoch 39/200\n",
            "66/66 [==============================] - 0s 4ms/step - loss: 0.7813 - val_loss: 1.0295\n",
            "Epoch 40/200\n",
            "66/66 [==============================] - 0s 4ms/step - loss: 0.7842 - val_loss: 1.0356\n",
            "Epoch 41/200\n",
            "66/66 [==============================] - 0s 4ms/step - loss: 0.7825 - val_loss: 1.0328\n",
            "Epoch 42/200\n",
            "66/66 [==============================] - 0s 4ms/step - loss: 0.7804 - val_loss: 1.0279\n",
            "Epoch 43/200\n",
            "66/66 [==============================] - 0s 4ms/step - loss: 0.7825 - val_loss: 1.0348\n",
            "Epoch 44/200\n",
            "66/66 [==============================] - 0s 4ms/step - loss: 0.7822 - val_loss: 1.0286\n",
            "Epoch 45/200\n",
            "66/66 [==============================] - 0s 4ms/step - loss: 0.7808 - val_loss: 1.0303\n",
            "Epoch 46/200\n",
            "66/66 [==============================] - 0s 4ms/step - loss: 0.7804 - val_loss: 1.0288\n",
            "Epoch 47/200\n",
            "66/66 [==============================] - 0s 4ms/step - loss: 0.7774 - val_loss: 1.0309\n",
            "Epoch 48/200\n",
            "66/66 [==============================] - 0s 4ms/step - loss: 0.7802 - val_loss: 1.0266\n",
            "Epoch 49/200\n",
            "66/66 [==============================] - 0s 4ms/step - loss: 0.7830 - val_loss: 1.0471\n",
            "Epoch 50/200\n",
            "66/66 [==============================] - 0s 4ms/step - loss: 0.7824 - val_loss: 1.0435\n",
            "Epoch 51/200\n",
            "66/66 [==============================] - 0s 5ms/step - loss: 0.7802 - val_loss: 1.0341\n",
            "Epoch 52/200\n",
            "66/66 [==============================] - 0s 4ms/step - loss: 0.7821 - val_loss: 1.0271\n",
            "Epoch 53/200\n",
            "66/66 [==============================] - 0s 4ms/step - loss: 0.7800 - val_loss: 1.0239\n",
            "Epoch 54/200\n",
            "66/66 [==============================] - 0s 4ms/step - loss: 0.7783 - val_loss: 1.0265\n",
            "Epoch 55/200\n",
            "66/66 [==============================] - 0s 4ms/step - loss: 0.7782 - val_loss: 1.0317\n",
            "Epoch 56/200\n",
            "66/66 [==============================] - 0s 4ms/step - loss: 0.7827 - val_loss: 1.0255\n",
            "Epoch 57/200\n",
            "66/66 [==============================] - 0s 4ms/step - loss: 0.7768 - val_loss: 1.0330\n",
            "Epoch 58/200\n",
            "66/66 [==============================] - 0s 4ms/step - loss: 0.7837 - val_loss: 1.0293\n",
            "Epoch 59/200\n",
            "66/66 [==============================] - 0s 4ms/step - loss: 0.7800 - val_loss: 1.0280\n",
            "Epoch 60/200\n",
            "66/66 [==============================] - 0s 4ms/step - loss: 0.7811 - val_loss: 1.0313\n",
            "Epoch 61/200\n",
            "66/66 [==============================] - 0s 4ms/step - loss: 0.7802 - val_loss: 1.0235\n",
            "Epoch 62/200\n",
            "66/66 [==============================] - 0s 4ms/step - loss: 0.7777 - val_loss: 1.0289\n",
            "Epoch 63/200\n",
            "66/66 [==============================] - 0s 4ms/step - loss: 0.7785 - val_loss: 1.0236\n",
            "Epoch 64/200\n",
            "66/66 [==============================] - 0s 4ms/step - loss: 0.7787 - val_loss: 1.0290\n",
            "Epoch 65/200\n",
            "66/66 [==============================] - 0s 4ms/step - loss: 0.7785 - val_loss: 1.0354\n",
            "Epoch 66/200\n",
            "66/66 [==============================] - 0s 4ms/step - loss: 0.7797 - val_loss: 1.0301\n",
            "Epoch 67/200\n",
            "66/66 [==============================] - 0s 4ms/step - loss: 0.7778 - val_loss: 1.0320\n",
            "Epoch 68/200\n",
            "66/66 [==============================] - 0s 4ms/step - loss: 0.7762 - val_loss: 1.0260\n",
            "Epoch 69/200\n",
            "66/66 [==============================] - 0s 4ms/step - loss: 0.7762 - val_loss: 1.0230\n",
            "Epoch 70/200\n",
            "66/66 [==============================] - 0s 4ms/step - loss: 0.7822 - val_loss: 1.0272\n",
            "Epoch 71/200\n",
            "66/66 [==============================] - 0s 5ms/step - loss: 0.7768 - val_loss: 1.0288\n",
            "Epoch 72/200\n",
            "66/66 [==============================] - 0s 6ms/step - loss: 0.7781 - val_loss: 1.0304\n",
            "Epoch 73/200\n",
            "66/66 [==============================] - 0s 7ms/step - loss: 0.7798 - val_loss: 1.0292\n",
            "Epoch 74/200\n",
            "66/66 [==============================] - 0s 7ms/step - loss: 0.7767 - val_loss: 1.0374\n",
            "Epoch 75/200\n",
            "66/66 [==============================] - 0s 6ms/step - loss: 0.7821 - val_loss: 1.0274\n",
            "Epoch 76/200\n",
            "66/66 [==============================] - 0s 6ms/step - loss: 0.7751 - val_loss: 1.0330\n",
            "Epoch 77/200\n",
            "66/66 [==============================] - 0s 4ms/step - loss: 0.7758 - val_loss: 1.0249\n",
            "Epoch 78/200\n",
            "66/66 [==============================] - 0s 4ms/step - loss: 0.7756 - val_loss: 1.0236\n",
            "Epoch 79/200\n",
            "66/66 [==============================] - 0s 4ms/step - loss: 0.7733 - val_loss: 1.0318\n",
            "Epoch 80/200\n",
            "66/66 [==============================] - 0s 4ms/step - loss: 0.7776 - val_loss: 1.0262\n",
            "Epoch 81/200\n",
            "66/66 [==============================] - 0s 4ms/step - loss: 0.7748 - val_loss: 1.0293\n",
            "Epoch 82/200\n",
            "66/66 [==============================] - 0s 4ms/step - loss: 0.7762 - val_loss: 1.0240\n",
            "Epoch 83/200\n",
            "66/66 [==============================] - 0s 4ms/step - loss: 0.7732 - val_loss: 1.0211\n",
            "Epoch 84/200\n",
            "66/66 [==============================] - 0s 4ms/step - loss: 0.7761 - val_loss: 1.0215\n",
            "Epoch 85/200\n",
            "66/66 [==============================] - 0s 4ms/step - loss: 0.7748 - val_loss: 1.0223\n",
            "Epoch 86/200\n",
            "66/66 [==============================] - 0s 4ms/step - loss: 0.7762 - val_loss: 1.0228\n",
            "Epoch 87/200\n",
            "66/66 [==============================] - 0s 4ms/step - loss: 0.7764 - val_loss: 1.0208\n",
            "Epoch 88/200\n",
            "66/66 [==============================] - 0s 4ms/step - loss: 0.7728 - val_loss: 1.0196\n",
            "Epoch 89/200\n",
            "66/66 [==============================] - 0s 4ms/step - loss: 0.7720 - val_loss: 1.0192\n",
            "Epoch 90/200\n",
            "66/66 [==============================] - 0s 4ms/step - loss: 0.7719 - val_loss: 1.0249\n",
            "Epoch 91/200\n",
            "66/66 [==============================] - 0s 4ms/step - loss: 0.7735 - val_loss: 1.0292\n",
            "Epoch 92/200\n",
            "66/66 [==============================] - 0s 4ms/step - loss: 0.7718 - val_loss: 1.0232\n",
            "Epoch 93/200\n",
            "66/66 [==============================] - 0s 5ms/step - loss: 0.7723 - val_loss: 1.0335\n",
            "Epoch 94/200\n",
            "66/66 [==============================] - 0s 4ms/step - loss: 0.7724 - val_loss: 1.0185\n",
            "Epoch 95/200\n",
            "66/66 [==============================] - 0s 4ms/step - loss: 0.7770 - val_loss: 1.0306\n",
            "Epoch 96/200\n",
            "66/66 [==============================] - 0s 4ms/step - loss: 0.7721 - val_loss: 1.0126\n",
            "Epoch 97/200\n",
            "66/66 [==============================] - 0s 4ms/step - loss: 0.7729 - val_loss: 1.0247\n",
            "Epoch 98/200\n",
            "66/66 [==============================] - 0s 4ms/step - loss: 0.7706 - val_loss: 1.0266\n",
            "Epoch 99/200\n",
            "66/66 [==============================] - 0s 4ms/step - loss: 0.7748 - val_loss: 1.0333\n",
            "Epoch 100/200\n",
            "66/66 [==============================] - 0s 4ms/step - loss: 0.7731 - val_loss: 1.0206\n",
            "Epoch 101/200\n",
            "66/66 [==============================] - 0s 4ms/step - loss: 0.7698 - val_loss: 1.0152\n",
            "Epoch 102/200\n",
            "66/66 [==============================] - 0s 4ms/step - loss: 0.7715 - val_loss: 1.0211\n",
            "Epoch 103/200\n",
            "66/66 [==============================] - 0s 4ms/step - loss: 0.7688 - val_loss: 1.0215\n",
            "Epoch 104/200\n",
            "66/66 [==============================] - 0s 4ms/step - loss: 0.7694 - val_loss: 1.0134\n",
            "Epoch 105/200\n",
            "66/66 [==============================] - 0s 4ms/step - loss: 0.7689 - val_loss: 1.0219\n",
            "Epoch 106/200\n",
            "66/66 [==============================] - 0s 4ms/step - loss: 0.7670 - val_loss: 1.0221\n",
            "Epoch 107/200\n",
            "66/66 [==============================] - 0s 4ms/step - loss: 0.7698 - val_loss: 1.0213\n",
            "Epoch 108/200\n",
            "66/66 [==============================] - 0s 4ms/step - loss: 0.7672 - val_loss: 1.0234\n",
            "Epoch 109/200\n",
            "66/66 [==============================] - 0s 4ms/step - loss: 0.7709 - val_loss: 1.0101\n",
            "Epoch 110/200\n",
            "66/66 [==============================] - 0s 4ms/step - loss: 0.7666 - val_loss: 1.0091\n",
            "Epoch 111/200\n",
            "66/66 [==============================] - 0s 4ms/step - loss: 0.7679 - val_loss: 1.0127\n",
            "Epoch 112/200\n",
            "66/66 [==============================] - 0s 5ms/step - loss: 0.7669 - val_loss: 1.0129\n",
            "Epoch 113/200\n",
            "66/66 [==============================] - 0s 6ms/step - loss: 0.7670 - val_loss: 1.0153\n",
            "Epoch 114/200\n",
            "66/66 [==============================] - 0s 6ms/step - loss: 0.7663 - val_loss: 1.0183\n",
            "Epoch 115/200\n",
            "66/66 [==============================] - 0s 6ms/step - loss: 0.7647 - val_loss: 1.0181\n",
            "Epoch 116/200\n",
            "66/66 [==============================] - 0s 6ms/step - loss: 0.7677 - val_loss: 1.0228\n",
            "Epoch 117/200\n",
            "66/66 [==============================] - 0s 7ms/step - loss: 0.7676 - val_loss: 1.0075\n",
            "Epoch 118/200\n",
            "66/66 [==============================] - 0s 5ms/step - loss: 0.7648 - val_loss: 1.0173\n",
            "Epoch 119/200\n",
            "66/66 [==============================] - 0s 4ms/step - loss: 0.7680 - val_loss: 1.0133\n",
            "Epoch 120/200\n",
            "66/66 [==============================] - 0s 5ms/step - loss: 0.7652 - val_loss: 1.0199\n",
            "Epoch 121/200\n",
            "66/66 [==============================] - 0s 4ms/step - loss: 0.7661 - val_loss: 1.0137\n",
            "Epoch 122/200\n",
            "66/66 [==============================] - 0s 4ms/step - loss: 0.7674 - val_loss: 1.0122\n",
            "Epoch 123/200\n",
            "66/66 [==============================] - 0s 4ms/step - loss: 0.7645 - val_loss: 1.0113\n",
            "Epoch 124/200\n",
            "66/66 [==============================] - 0s 4ms/step - loss: 0.7633 - val_loss: 1.0105\n",
            "Epoch 125/200\n",
            "66/66 [==============================] - 0s 4ms/step - loss: 0.7668 - val_loss: 1.0126\n",
            "Epoch 126/200\n",
            "66/66 [==============================] - 0s 4ms/step - loss: 0.7624 - val_loss: 1.0094\n",
            "Epoch 127/200\n",
            "66/66 [==============================] - 0s 5ms/step - loss: 0.7673 - val_loss: 1.0095\n",
            "Epoch 128/200\n",
            "66/66 [==============================] - 0s 5ms/step - loss: 0.7625 - val_loss: 1.0114\n",
            "Epoch 129/200\n",
            "66/66 [==============================] - 0s 4ms/step - loss: 0.7629 - val_loss: 1.0168\n",
            "Epoch 130/200\n",
            "66/66 [==============================] - 0s 4ms/step - loss: 0.7622 - val_loss: 1.0206\n",
            "Epoch 131/200\n",
            "66/66 [==============================] - 0s 4ms/step - loss: 0.7645 - val_loss: 1.0112\n",
            "Epoch 132/200\n",
            "66/66 [==============================] - 0s 4ms/step - loss: 0.7536 - val_loss: 0.9954\n",
            "Epoch 133/200\n",
            "66/66 [==============================] - 0s 4ms/step - loss: 0.7525 - val_loss: 1.0086\n",
            "Epoch 134/200\n",
            "66/66 [==============================] - 0s 4ms/step - loss: 0.7585 - val_loss: 1.0067\n",
            "Epoch 135/200\n",
            "66/66 [==============================] - 0s 4ms/step - loss: 0.7531 - val_loss: 1.0156\n",
            "Epoch 136/200\n",
            "66/66 [==============================] - 0s 4ms/step - loss: 0.7588 - val_loss: 1.0075\n",
            "Epoch 137/200\n",
            "66/66 [==============================] - 0s 4ms/step - loss: 0.7541 - val_loss: 0.9985\n",
            "Epoch 138/200\n",
            "66/66 [==============================] - 0s 4ms/step - loss: 0.7544 - val_loss: 0.9978\n",
            "Epoch 139/200\n",
            "66/66 [==============================] - 0s 4ms/step - loss: 0.7559 - val_loss: 1.0283\n",
            "Epoch 140/200\n",
            "66/66 [==============================] - 0s 4ms/step - loss: 0.7583 - val_loss: 0.9975\n",
            "Epoch 141/200\n",
            "66/66 [==============================] - 0s 4ms/step - loss: 0.7583 - val_loss: 1.0272\n",
            "Epoch 142/200\n",
            "66/66 [==============================] - 0s 4ms/step - loss: 0.7564 - val_loss: 0.9997\n",
            "Epoch 143/200\n",
            "66/66 [==============================] - 0s 4ms/step - loss: 0.7531 - val_loss: 1.0018\n",
            "Epoch 144/200\n",
            "66/66 [==============================] - 0s 4ms/step - loss: 0.7575 - val_loss: 1.0176\n",
            "Epoch 145/200\n",
            "66/66 [==============================] - 0s 4ms/step - loss: 0.7594 - val_loss: 1.0150\n",
            "Epoch 146/200\n",
            "66/66 [==============================] - 0s 4ms/step - loss: 0.7531 - val_loss: 1.0238\n",
            "Epoch 147/200\n",
            "66/66 [==============================] - 0s 4ms/step - loss: 0.7572 - val_loss: 1.0056\n",
            "Epoch 148/200\n",
            "66/66 [==============================] - 0s 4ms/step - loss: 0.7551 - val_loss: 1.0018\n",
            "Epoch 149/200\n",
            "66/66 [==============================] - 0s 4ms/step - loss: 0.7509 - val_loss: 1.0121\n",
            "Epoch 150/200\n",
            "66/66 [==============================] - 0s 4ms/step - loss: 0.7526 - val_loss: 1.0233\n",
            "Epoch 151/200\n",
            "66/66 [==============================] - 0s 4ms/step - loss: 0.7518 - val_loss: 0.9907\n",
            "Epoch 152/200\n",
            "66/66 [==============================] - 0s 4ms/step - loss: 0.7521 - val_loss: 0.9997\n",
            "Epoch 153/200\n",
            "66/66 [==============================] - 0s 6ms/step - loss: 0.7570 - val_loss: 0.9996\n",
            "Epoch 154/200\n",
            "66/66 [==============================] - 0s 6ms/step - loss: 0.7515 - val_loss: 1.0027\n",
            "Epoch 155/200\n",
            "66/66 [==============================] - 0s 6ms/step - loss: 0.7559 - val_loss: 1.0091\n",
            "Epoch 156/200\n",
            "66/66 [==============================] - 0s 6ms/step - loss: 0.7545 - val_loss: 1.0091\n",
            "Epoch 157/200\n",
            "66/66 [==============================] - 0s 6ms/step - loss: 0.7504 - val_loss: 0.9941\n",
            "Epoch 158/200\n",
            "66/66 [==============================] - 0s 6ms/step - loss: 0.7572 - val_loss: 0.9984\n",
            "Epoch 159/200\n",
            "66/66 [==============================] - 0s 4ms/step - loss: 0.7505 - val_loss: 0.9972\n",
            "Epoch 160/200\n",
            "66/66 [==============================] - 0s 4ms/step - loss: 0.7525 - val_loss: 1.0007\n",
            "Epoch 161/200\n",
            "66/66 [==============================] - 0s 5ms/step - loss: 0.7503 - val_loss: 0.9985\n",
            "Epoch 162/200\n",
            "66/66 [==============================] - 0s 4ms/step - loss: 0.7537 - val_loss: 0.9985\n",
            "Epoch 163/200\n",
            "66/66 [==============================] - 0s 4ms/step - loss: 0.7495 - val_loss: 0.9996\n",
            "Epoch 164/200\n",
            "66/66 [==============================] - 0s 4ms/step - loss: 0.7479 - val_loss: 1.0001\n",
            "Epoch 165/200\n",
            "66/66 [==============================] - 0s 4ms/step - loss: 0.7525 - val_loss: 0.9997\n",
            "Epoch 166/200\n",
            "66/66 [==============================] - 0s 4ms/step - loss: 0.7495 - val_loss: 0.9910\n",
            "Epoch 167/200\n",
            "66/66 [==============================] - 0s 4ms/step - loss: 0.7552 - val_loss: 1.0134\n",
            "Epoch 168/200\n",
            "66/66 [==============================] - 0s 4ms/step - loss: 0.7485 - val_loss: 1.0053\n",
            "Epoch 169/200\n",
            "66/66 [==============================] - 0s 4ms/step - loss: 0.7602 - val_loss: 1.0040\n",
            "Epoch 170/200\n",
            "66/66 [==============================] - 0s 5ms/step - loss: 0.7499 - val_loss: 0.9947\n",
            "Epoch 171/200\n",
            "66/66 [==============================] - 0s 5ms/step - loss: 0.7498 - val_loss: 1.0069\n",
            "Epoch 172/200\n",
            "66/66 [==============================] - 0s 4ms/step - loss: 0.7515 - val_loss: 1.0009\n",
            "Epoch 173/200\n",
            "66/66 [==============================] - 0s 4ms/step - loss: 0.7490 - val_loss: 1.0118\n",
            "Epoch 174/200\n",
            "66/66 [==============================] - 0s 4ms/step - loss: 0.7552 - val_loss: 1.0058\n",
            "Epoch 175/200\n",
            "66/66 [==============================] - 0s 4ms/step - loss: 0.7532 - val_loss: 1.0090\n",
            "Epoch 176/200\n",
            "66/66 [==============================] - 0s 4ms/step - loss: 0.7510 - val_loss: 0.9975\n",
            "Epoch 177/200\n",
            "66/66 [==============================] - 0s 4ms/step - loss: 0.7541 - val_loss: 1.0166\n",
            "Epoch 178/200\n",
            "66/66 [==============================] - 0s 4ms/step - loss: 0.7533 - val_loss: 1.0079\n",
            "Epoch 179/200\n",
            "66/66 [==============================] - 0s 4ms/step - loss: 0.7506 - val_loss: 1.0009\n",
            "Epoch 180/200\n",
            "66/66 [==============================] - 0s 4ms/step - loss: 0.7473 - val_loss: 1.0089\n",
            "Epoch 181/200\n",
            "66/66 [==============================] - 0s 4ms/step - loss: 0.7501 - val_loss: 0.9915\n",
            "Epoch 182/200\n",
            "66/66 [==============================] - 0s 4ms/step - loss: 0.7492 - val_loss: 1.0041\n",
            "Epoch 183/200\n",
            "66/66 [==============================] - 0s 4ms/step - loss: 0.7482 - val_loss: 1.0129\n",
            "Epoch 184/200\n",
            "66/66 [==============================] - 0s 4ms/step - loss: 0.7546 - val_loss: 0.9955\n",
            "Epoch 185/200\n",
            "66/66 [==============================] - 0s 4ms/step - loss: 0.7485 - val_loss: 1.0048\n",
            "Epoch 186/200\n",
            "66/66 [==============================] - 0s 4ms/step - loss: 0.7514 - val_loss: 0.9950\n",
            "Epoch 187/200\n",
            "66/66 [==============================] - 0s 4ms/step - loss: 0.7492 - val_loss: 0.9993\n",
            "Epoch 188/200\n",
            "66/66 [==============================] - 0s 4ms/step - loss: 0.7487 - val_loss: 0.9942\n",
            "Epoch 189/200\n",
            "66/66 [==============================] - 0s 4ms/step - loss: 0.7498 - val_loss: 0.9966\n",
            "Epoch 190/200\n",
            "66/66 [==============================] - 0s 4ms/step - loss: 0.7497 - val_loss: 1.0042\n",
            "Epoch 191/200\n",
            "66/66 [==============================] - 0s 4ms/step - loss: 0.7496 - val_loss: 0.9973\n",
            "Epoch 192/200\n",
            "66/66 [==============================] - 0s 4ms/step - loss: 0.7479 - val_loss: 0.9921\n",
            "Epoch 193/200\n",
            "66/66 [==============================] - 0s 4ms/step - loss: 0.7488 - val_loss: 1.0047\n",
            "Epoch 194/200\n",
            "66/66 [==============================] - 0s 6ms/step - loss: 0.7549 - val_loss: 0.9987\n",
            "Epoch 195/200\n",
            "66/66 [==============================] - 0s 6ms/step - loss: 0.7496 - val_loss: 1.0055\n",
            "Epoch 196/200\n",
            "66/66 [==============================] - 0s 6ms/step - loss: 0.7563 - val_loss: 1.0086\n",
            "Epoch 197/200\n",
            "66/66 [==============================] - 0s 6ms/step - loss: 0.7506 - val_loss: 1.0115\n",
            "Epoch 198/200\n",
            "66/66 [==============================] - 0s 5ms/step - loss: 0.7506 - val_loss: 1.0080\n",
            "Epoch 199/200\n",
            "66/66 [==============================] - 0s 6ms/step - loss: 0.7479 - val_loss: 1.0161\n",
            "Epoch 200/200\n",
            "66/66 [==============================] - 0s 6ms/step - loss: 0.7502 - val_loss: 0.9974\n"
          ]
        }
      ]
    },
    {
      "cell_type": "code",
      "source": [
        "plt.plot(history.history['loss'])\n",
        "plt.plot(history.history['val_loss'])\n",
        "plt.ylabel('loss')\n",
        "plt.xlabel('epoch')\n",
        "plt.legend(['train', 'test'], loc='upper right')\n",
        "plt.show()"
      ],
      "metadata": {
        "colab": {
          "base_uri": "https://localhost:8080/",
          "height": 451
        },
        "id": "J_OnvuHTbpR2",
        "outputId": "67fc47ca-647e-4a36-f450-eddee681d58d"
      },
      "execution_count": 11,
      "outputs": [
        {
          "output_type": "display_data",
          "data": {
            "text/plain": [
              "<Figure size 640x480 with 1 Axes>"
            ],
            "image/png": "[encoded data removed]"
          },
          "metadata": {}
        }
      ]
    },
    {
      "cell_type": "code",
      "source": [
        "test_predictions = modelANN.predict(xx)"
      ],
      "metadata": {
        "colab": {
          "base_uri": "https://localhost:8080/"
        },
        "id": "Yw0gF45Eb5iL",
        "outputId": "383da224-1901-45d2-891a-61dd0ec04143"
      },
      "execution_count": 12,
      "outputs": [
        {
          "output_type": "stream",
          "name": "stdout",
          "text": [
            "8/8 [==============================] - 0s 2ms/step\n"
          ]
        }
      ]
    },
    {
      "cell_type": "code",
      "source": [
        "tp = pd.DataFrame(test_predictions)\n",
        "tp2 = denorm(tp)"
      ],
      "metadata": {
        "id": "ExwVujDqb-IZ"
      },
      "execution_count": 13,
      "outputs": []
    },
    {
      "cell_type": "code",
      "source": [
        "# Plot some results: truth vs prediction\n",
        "ntest1 = 0 \n",
        "ntest2 = 100 \n",
        "ntest3 = 20\n",
        "ntest4 = 40 \n",
        "fig, axs = plt.subplots(2, 2)\n",
        "axs[0, 0].plot(tp2.iloc[ntest1,:])\n",
        "axs[0, 0].plot(y_test.iloc[ntest1,:])\n",
        "axs[0, 1].plot(tp2.iloc[ntest2,:])\n",
        "axs[0, 1].plot(y_test.iloc[ntest2,:])\n",
        "axs[1, 0].plot(tp2.iloc[ntest3,:])\n",
        "axs[1, 0].plot(y_test.iloc[ntest3,:])\n",
        "axs[1, 1].plot(tp2.iloc[ntest4,:])\n",
        "axs[1, 1].plot(y_test.iloc[ntest4,:])\n"
      ],
      "metadata": {
        "colab": {
          "base_uri": "https://localhost:8080/",
          "height": 448
        },
        "id": "8KhCD0IALQQl",
        "outputId": "424b6815-2409-4bb5-996f-7285d8937c4e"
      },
      "execution_count": 14,
      "outputs": [
        {
          "output_type": "execute_result",
          "data": {
            "text/plain": [
              "[<matplotlib.lines.Line2D at 0x7f8cba39c670>]"
            ]
          },
          "metadata": {},
          "execution_count": 14
        },
        {
          "output_type": "display_data",
          "data": {
            "text/plain": [
              "<Figure size 640x480 with 4 Axes>"
            ],
            "image/png": "[encoded data removed]"
          },
          "metadata": {}
        }
      ]
    },
    {
      "cell_type": "code",
      "source": [
        "errors = np.zeros(100)\n",
        "for i in np.arange(100):\n",
        "  errors[i]=mean_squared_error(tp2.iloc[i,:],y_test.iloc[i,:])/y_test.iloc[i,:].max()\n",
        "errors.mean()  "
      ],
      "metadata": {
        "colab": {
          "base_uri": "https://localhost:8080/"
        },
        "id": "8uK5ac1JMIrC",
        "outputId": "7c9a96c4-158e-449a-bad2-014d4c32925d"
      },
      "execution_count": 18,
      "outputs": [
        {
          "output_type": "execute_result",
          "data": {
            "text/plain": [
              "5.398042267459663"
            ]
          },
          "metadata": {},
          "execution_count": 18
        }
      ]
    },
    {
      "cell_type": "code",
      "source": [
        "from google.colab import files\n",
        "X_test.to_csv('FCNN_Xtest.csv')\n",
        "y_test.to_csv('FCNN_ytest.csv')\n",
        "tp2.to_csv('FCNN_ypred.csv')\n",
        "files.download('FCNN_Xtest.csv')\n",
        "files.download('FCNN_ytest.csv')\n",
        "files.download('FCNN_ypred.csv')"
      ],
      "metadata": {
        "id": "Lt5chk_ivv9e",
        "colab": {
          "base_uri": "https://localhost:8080/",
          "height": 17
        },
        "outputId": "e1abbad5-2897-4694-c2e4-405081d51472"
      },
      "execution_count": 16,
      "outputs": [
        {
          "output_type": "display_data",
          "data": {
            "text/plain": [
              "<IPython.core.display.Javascript object>"
            ],
            "application/javascript": [
              "\n",
              "    async function download(id, filename, size) {\n",
              "      if (!google.colab.kernel.accessAllowed) {\n",
              "        return;\n",
              "      }\n",
              "      const div = document.createElement('div');\n",
              "      const label = document.createElement('label');\n",
              "      label.textContent = `Downloading \"${filename}\": `;\n",
              "      div.appendChild(label);\n",
              "      const progress = document.createElement('progress');\n",
              "      progress.max = size;\n",
              "      div.appendChild(progress);\n",
              "      document.body.appendChild(div);\n",
              "\n",
              "      const buffers = [];\n",
              "      let downloaded = 0;\n",
              "\n",
              "      const channel = await google.colab.kernel.comms.open(id);\n",
              "      // Send a message to notify the kernel that we're ready.\n",
              "      channel.send({})\n",
              "\n",
              "      for await (const message of channel.messages) {\n",
              "        // Send a message to notify the kernel that we're ready.\n",
              "        channel.send({})\n",
              "        if (message.buffers) {\n",
              "          for (const buffer of message.buffers) {\n",
              "            buffers.push(buffer);\n",
              "            downloaded += buffer.byteLength;\n",
              "            progress.value = downloaded;\n",
              "          }\n",
              "        }\n",
              "      }\n",
              "      const blob = new Blob(buffers, {type: 'application/binary'});\n",
              "      const a = document.createElement('a');\n",
              "      a.href = window.URL.createObjectURL(blob);\n",
              "      a.download = filename;\n",
              "      div.appendChild(a);\n",
              "      a.click();\n",
              "      div.remove();\n",
              "    }\n",
              "  "
            ]
          },
          "metadata": {}
        },
        {
          "output_type": "display_data",
          "data": {
            "text/plain": [
              "<IPython.core.display.Javascript object>"
            ],
            "application/javascript": [
              "download(\"download_f648a61a-c370-45af-a416-a116a30839c3\", \"FCNN_Xtest.csv\", 178197)"
            ]
          },
          "metadata": {}
        },
        {
          "output_type": "display_data",
          "data": {
            "text/plain": [
              "<IPython.core.display.Javascript object>"
            ],
            "application/javascript": [
              "\n",
              "    async function download(id, filename, size) {\n",
              "      if (!google.colab.kernel.accessAllowed) {\n",
              "        return;\n",
              "      }\n",
              "      const div = document.createElement('div');\n",
              "      const label = document.createElement('label');\n",
              "      label.textContent = `Downloading \"${filename}\": `;\n",
              "      div.appendChild(label);\n",
              "      const progress = document.createElement('progress');\n",
              "      progress.max = size;\n",
              "      div.appendChild(progress);\n",
              "      document.body.appendChild(div);\n",
              "\n",
              "      const buffers = [];\n",
              "      let downloaded = 0;\n",
              "\n",
              "      const channel = await google.colab.kernel.comms.open(id);\n",
              "      // Send a message to notify the kernel that we're ready.\n",
              "      channel.send({})\n",
              "\n",
              "      for await (const message of channel.messages) {\n",
              "        // Send a message to notify the kernel that we're ready.\n",
              "        channel.send({})\n",
              "        if (message.buffers) {\n",
              "          for (const buffer of message.buffers) {\n",
              "            buffers.push(buffer);\n",
              "            downloaded += buffer.byteLength;\n",
              "            progress.value = downloaded;\n",
              "          }\n",
              "        }\n",
              "      }\n",
              "      const blob = new Blob(buffers, {type: 'application/binary'});\n",
              "      const a = document.createElement('a');\n",
              "      a.href = window.URL.createObjectURL(blob);\n",
              "      a.download = filename;\n",
              "      div.appendChild(a);\n",
              "      a.click();\n",
              "      div.remove();\n",
              "    }\n",
              "  "
            ]
          },
          "metadata": {}
        },
        {
          "output_type": "display_data",
          "data": {
            "text/plain": [
              "<IPython.core.display.Javascript object>"
            ],
            "application/javascript": [
              "download(\"download_5b6603a8-715e-41a8-bc63-d0b0eeebd9d3\", \"FCNN_ytest.csv\", 211981)"
            ]
          },
          "metadata": {}
        },
        {
          "output_type": "display_data",
          "data": {
            "text/plain": [
              "<IPython.core.display.Javascript object>"
            ],
            "application/javascript": [
              "\n",
              "    async function download(id, filename, size) {\n",
              "      if (!google.colab.kernel.accessAllowed) {\n",
              "        return;\n",
              "      }\n",
              "      const div = document.createElement('div');\n",
              "      const label = document.createElement('label');\n",
              "      label.textContent = `Downloading \"${filename}\": `;\n",
              "      div.appendChild(label);\n",
              "      const progress = document.createElement('progress');\n",
              "      progress.max = size;\n",
              "      div.appendChild(progress);\n",
              "      document.body.appendChild(div);\n",
              "\n",
              "      const buffers = [];\n",
              "      let downloaded = 0;\n",
              "\n",
              "      const channel = await google.colab.kernel.comms.open(id);\n",
              "      // Send a message to notify the kernel that we're ready.\n",
              "      channel.send({})\n",
              "\n",
              "      for await (const message of channel.messages) {\n",
              "        // Send a message to notify the kernel that we're ready.\n",
              "        channel.send({})\n",
              "        if (message.buffers) {\n",
              "          for (const buffer of message.buffers) {\n",
              "            buffers.push(buffer);\n",
              "            downloaded += buffer.byteLength;\n",
              "            progress.value = downloaded;\n",
              "          }\n",
              "        }\n",
              "      }\n",
              "      const blob = new Blob(buffers, {type: 'application/binary'});\n",
              "      const a = document.createElement('a');\n",
              "      a.href = window.URL.createObjectURL(blob);\n",
              "      a.download = filename;\n",
              "      div.appendChild(a);\n",
              "      a.click();\n",
              "      div.remove();\n",
              "    }\n",
              "  "
            ]
          },
          "metadata": {}
        },
        {
          "output_type": "display_data",
          "data": {
            "text/plain": [
              "<IPython.core.display.Javascript object>"
            ],
            "application/javascript": [
              "download(\"download_4aa55e41-ae0e-415b-b9c1-acdf5c006cf0\", \"FCNN_ypred.csv\", 445656)"
            ]
          },
          "metadata": {}
        }
      ]
    },
    {
      "cell_type": "code",
      "source": [],
      "metadata": {
        "id": "fkMRqm36rHWQ"
      },
      "execution_count": 16,
      "outputs": []
    }
  ]
}